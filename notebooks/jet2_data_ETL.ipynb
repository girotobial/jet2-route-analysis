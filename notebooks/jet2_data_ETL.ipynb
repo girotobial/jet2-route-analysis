{
 "metadata": {
  "language_info": {
   "codemirror_mode": {
    "name": "ipython",
    "version": 3
   },
   "file_extension": ".py",
   "mimetype": "text/x-python",
   "name": "python",
   "nbconvert_exporter": "python",
   "pygments_lexer": "ipython3",
   "version": "3.8.2-final"
  },
  "orig_nbformat": 2,
  "kernelspec": {
   "name": "python38264bitvenvvenv27a39c7a867b4e2d9c38e92e2c14977f",
   "display_name": "Python 3.8.2 64-bit ('venv': venv)"
  }
 },
 "nbformat": 4,
 "nbformat_minor": 2,
 "cells": [
  {
   "cell_type": "code",
   "execution_count": 118,
   "metadata": {},
   "outputs": [],
   "source": [
    "import requests\n",
    "import json\n",
    "import pandas as pd"
   ]
  },
  {
   "cell_type": "code",
   "execution_count": 119,
   "metadata": {},
   "outputs": [],
   "source": [
    "url = (\n",
    "        r'https://www.jet2.com'\n",
    "        r'/api/search/airportinformation/allairportinformation'\n",
    ")\n",
    "data = requests.get(url).json()"
   ]
  },
  {
   "cell_type": "code",
   "execution_count": 120,
   "metadata": {},
   "outputs": [],
   "source": [
    "with open('../data/external/jet2_data.json') as f:\n",
    "    data = json.load(f)"
   ]
  },
  {
   "cell_type": "code",
   "execution_count": 121,
   "metadata": {},
   "outputs": [],
   "source": [
    "data = pd.DataFrame(data['Data'])"
   ]
  },
  {
   "cell_type": "code",
   "execution_count": 122,
   "metadata": {
    "tags": []
   },
   "outputs": [
    {
     "output_type": "stream",
     "name": "stdout",
     "text": "<class 'pandas.core.frame.DataFrame'>\nRangeIndex: 106 entries, 0 to 105\nData columns (total 9 columns):\n #   Column                Non-Null Count  Dtype \n---  ------                --------------  ----- \n 0   country               106 non-null    object\n 1   label                 106 non-null    object\n 2   code                  106 non-null    object\n 3   isDepartureAirport    106 non-null    bool  \n 4   isDestinationAirport  106 non-null    bool  \n 5   destinationIataCodes  106 non-null    object\n 6   searchTerms           106 non-null    object\n 7   isEnabledForBooking   106 non-null    bool  \n 8   airportUrlKey         106 non-null    object\ndtypes: bool(3), object(6)\nmemory usage: 5.4+ KB\n"
    }
   ],
   "source": [
    "data.info()"
   ]
  },
  {
   "cell_type": "code",
   "execution_count": 123,
   "metadata": {},
   "outputs": [
    {
     "output_type": "execute_result",
     "data": {
      "text/plain": "          country                     label code  isDepartureAirport  \\\n0  United Kingdom                  Aberdeen  ABZ                True   \n1          France   Albert (Picardie Somme)  BYF                True   \n2           Spain              Alicante ALC  ALC                True   \n3           Spain               Almeria LEI  LEI                True   \n4     Netherlands             Amsterdam AMS  AMS                True   \n5          Turkey               Antalya AYT  AYT                True   \n6          France          Avignon Provence  AVN                True   \n7           Spain  Barcelona Terminal 2 BCN  BCN                True   \n8  United Kingdom          Belfast Intl BFS  BFS                True   \n9          France              Bergerac EGC  EGC                True   \n\n   isDestinationAirport                               destinationIataCodes  \\\n0                 False                                                      \n1                 False                                                      \n2                  True                BHX|NCL|MAN|STN|GLA|EDI|EMA|BFS|LBA   \n3                  True                        NCL|EMA|LBA|BHX|MAN|STN|GLA   \n4                  True                                                LBA   \n5                  True                MAN|STN|BFS|NCL|GLA|EMA|EDI|BHX|LBA   \n6                 False                                                      \n7                  True                                    LBA|MAN|BHX|GLA   \n8                  True  LPA|ADB|PFO|TFS|NAP|PMI|ALC|AYT|REU|ZTH|CFU|MA...   \n9                  True                                    BHX|LBA|MAN|STN   \n\n                                         searchTerms  isEnabledForBooking  \\\n0                    [ABZ, Aberdeen, United Kingdom]                False   \n1           [BYF, Albert, (Picardie, Somme), France]                False   \n2  [ALC, Alicante, ALC, Benidorm, Costa Blanca, S...                 True   \n3                         [LEI, Almeria, LEI, Spain]                 True   \n4  [AMS, Amsterdam, AMS, Holland, Netherlands, Ne...                 True   \n5                        [AYT, Antalya, AYT, Turkey]                 True   \n6                   [AVN, Avignon, Provence, France]                False   \n7  [BCN, Barcelona, Terminal, BCN, ski, Andorra, ...                 True   \n8  [BFS, Belfast, Intl, BFS, northern ireland, ir...                 True   \n9                       [EGC, Bergerac, EGC, France]                 True   \n\n      airportUrlKey  \n0          aberdeen  \n1            albert  \n2          alicante  \n3           almeria  \n4         amsterdam  \n5           antalya  \n6  avignon-provence  \n7         barcelona  \n8           belfast  \n9          bergerac  ",
      "text/html": "<div>\n<style scoped>\n    .dataframe tbody tr th:only-of-type {\n        vertical-align: middle;\n    }\n\n    .dataframe tbody tr th {\n        vertical-align: top;\n    }\n\n    .dataframe thead th {\n        text-align: right;\n    }\n</style>\n<table border=\"1\" class=\"dataframe\">\n  <thead>\n    <tr style=\"text-align: right;\">\n      <th></th>\n      <th>country</th>\n      <th>label</th>\n      <th>code</th>\n      <th>isDepartureAirport</th>\n      <th>isDestinationAirport</th>\n      <th>destinationIataCodes</th>\n      <th>searchTerms</th>\n      <th>isEnabledForBooking</th>\n      <th>airportUrlKey</th>\n    </tr>\n  </thead>\n  <tbody>\n    <tr>\n      <th>0</th>\n      <td>United Kingdom</td>\n      <td>Aberdeen</td>\n      <td>ABZ</td>\n      <td>True</td>\n      <td>False</td>\n      <td></td>\n      <td>[ABZ, Aberdeen, United Kingdom]</td>\n      <td>False</td>\n      <td>aberdeen</td>\n    </tr>\n    <tr>\n      <th>1</th>\n      <td>France</td>\n      <td>Albert (Picardie Somme)</td>\n      <td>BYF</td>\n      <td>True</td>\n      <td>False</td>\n      <td></td>\n      <td>[BYF, Albert, (Picardie, Somme), France]</td>\n      <td>False</td>\n      <td>albert</td>\n    </tr>\n    <tr>\n      <th>2</th>\n      <td>Spain</td>\n      <td>Alicante ALC</td>\n      <td>ALC</td>\n      <td>True</td>\n      <td>True</td>\n      <td>BHX|NCL|MAN|STN|GLA|EDI|EMA|BFS|LBA</td>\n      <td>[ALC, Alicante, ALC, Benidorm, Costa Blanca, S...</td>\n      <td>True</td>\n      <td>alicante</td>\n    </tr>\n    <tr>\n      <th>3</th>\n      <td>Spain</td>\n      <td>Almeria LEI</td>\n      <td>LEI</td>\n      <td>True</td>\n      <td>True</td>\n      <td>NCL|EMA|LBA|BHX|MAN|STN|GLA</td>\n      <td>[LEI, Almeria, LEI, Spain]</td>\n      <td>True</td>\n      <td>almeria</td>\n    </tr>\n    <tr>\n      <th>4</th>\n      <td>Netherlands</td>\n      <td>Amsterdam AMS</td>\n      <td>AMS</td>\n      <td>True</td>\n      <td>True</td>\n      <td>LBA</td>\n      <td>[AMS, Amsterdam, AMS, Holland, Netherlands, Ne...</td>\n      <td>True</td>\n      <td>amsterdam</td>\n    </tr>\n    <tr>\n      <th>5</th>\n      <td>Turkey</td>\n      <td>Antalya AYT</td>\n      <td>AYT</td>\n      <td>True</td>\n      <td>True</td>\n      <td>MAN|STN|BFS|NCL|GLA|EMA|EDI|BHX|LBA</td>\n      <td>[AYT, Antalya, AYT, Turkey]</td>\n      <td>True</td>\n      <td>antalya</td>\n    </tr>\n    <tr>\n      <th>6</th>\n      <td>France</td>\n      <td>Avignon Provence</td>\n      <td>AVN</td>\n      <td>True</td>\n      <td>False</td>\n      <td></td>\n      <td>[AVN, Avignon, Provence, France]</td>\n      <td>False</td>\n      <td>avignon-provence</td>\n    </tr>\n    <tr>\n      <th>7</th>\n      <td>Spain</td>\n      <td>Barcelona Terminal 2 BCN</td>\n      <td>BCN</td>\n      <td>True</td>\n      <td>True</td>\n      <td>LBA|MAN|BHX|GLA</td>\n      <td>[BCN, Barcelona, Terminal, BCN, ski, Andorra, ...</td>\n      <td>True</td>\n      <td>barcelona</td>\n    </tr>\n    <tr>\n      <th>8</th>\n      <td>United Kingdom</td>\n      <td>Belfast Intl BFS</td>\n      <td>BFS</td>\n      <td>True</td>\n      <td>True</td>\n      <td>LPA|ADB|PFO|TFS|NAP|PMI|ALC|AYT|REU|ZTH|CFU|MA...</td>\n      <td>[BFS, Belfast, Intl, BFS, northern ireland, ir...</td>\n      <td>True</td>\n      <td>belfast</td>\n    </tr>\n    <tr>\n      <th>9</th>\n      <td>France</td>\n      <td>Bergerac EGC</td>\n      <td>EGC</td>\n      <td>True</td>\n      <td>True</td>\n      <td>BHX|LBA|MAN|STN</td>\n      <td>[EGC, Bergerac, EGC, France]</td>\n      <td>True</td>\n      <td>bergerac</td>\n    </tr>\n  </tbody>\n</table>\n</div>"
     },
     "metadata": {},
     "execution_count": 123
    }
   ],
   "source": [
    "data.head(10)"
   ]
  },
  {
   "cell_type": "code",
   "execution_count": 124,
   "metadata": {},
   "outputs": [],
   "source": [
    "destinations = data[data['isDestinationAirport'] == True]"
   ]
  },
  {
   "cell_type": "code",
   "execution_count": 125,
   "metadata": {},
   "outputs": [],
   "source": [
    "def string_splitter(string: str) -> list:\n",
    "    return [\n",
    "        code\n",
    "        for code\n",
    "        in string.split('|')\n",
    "    ]"
   ]
  },
  {
   "cell_type": "code",
   "execution_count": 126,
   "metadata": {
    "tags": []
   },
   "outputs": [],
   "source": [
    "destinations['destinationIataCodes'] = destinations['destinationIataCodes'].apply(lambda x: string_splitter(x))"
   ]
  },
  {
   "cell_type": "code",
   "execution_count": 127,
   "metadata": {},
   "outputs": [
    {
     "output_type": "execute_result",
     "data": {
      "text/plain": "  country   Destination Destination Code  isDepartureAirport  \\\n2   Spain  Alicante ALC              ALC                True   \n2   Spain  Alicante ALC              ALC                True   \n2   Spain  Alicante ALC              ALC                True   \n2   Spain  Alicante ALC              ALC                True   \n2   Spain  Alicante ALC              ALC                True   \n\n   isDestinationAirport Departure Code  \n2                  True            BHX  \n2                  True            NCL  \n2                  True            MAN  \n2                  True            STN  \n2                  True            GLA  ",
      "text/html": "<div>\n<style scoped>\n    .dataframe tbody tr th:only-of-type {\n        vertical-align: middle;\n    }\n\n    .dataframe tbody tr th {\n        vertical-align: top;\n    }\n\n    .dataframe thead th {\n        text-align: right;\n    }\n</style>\n<table border=\"1\" class=\"dataframe\">\n  <thead>\n    <tr style=\"text-align: right;\">\n      <th></th>\n      <th>country</th>\n      <th>Destination</th>\n      <th>Destination Code</th>\n      <th>isDepartureAirport</th>\n      <th>isDestinationAirport</th>\n      <th>Departure Code</th>\n    </tr>\n  </thead>\n  <tbody>\n    <tr>\n      <th>2</th>\n      <td>Spain</td>\n      <td>Alicante ALC</td>\n      <td>ALC</td>\n      <td>True</td>\n      <td>True</td>\n      <td>BHX</td>\n    </tr>\n    <tr>\n      <th>2</th>\n      <td>Spain</td>\n      <td>Alicante ALC</td>\n      <td>ALC</td>\n      <td>True</td>\n      <td>True</td>\n      <td>NCL</td>\n    </tr>\n    <tr>\n      <th>2</th>\n      <td>Spain</td>\n      <td>Alicante ALC</td>\n      <td>ALC</td>\n      <td>True</td>\n      <td>True</td>\n      <td>MAN</td>\n    </tr>\n    <tr>\n      <th>2</th>\n      <td>Spain</td>\n      <td>Alicante ALC</td>\n      <td>ALC</td>\n      <td>True</td>\n      <td>True</td>\n      <td>STN</td>\n    </tr>\n    <tr>\n      <th>2</th>\n      <td>Spain</td>\n      <td>Alicante ALC</td>\n      <td>ALC</td>\n      <td>True</td>\n      <td>True</td>\n      <td>GLA</td>\n    </tr>\n  </tbody>\n</table>\n</div>"
     },
     "metadata": {},
     "execution_count": 127
    }
   ],
   "source": [
    "destinations = destinations.explode('destinationIataCodes')\n",
    "destinations.drop(columns=['searchTerms', 'isEnabledForBooking', 'airportUrlKey'], inplace=True)\n",
    "destinations.rename(\n",
    "    columns={\n",
    "        'label': 'Destination',\n",
    "        'code': 'Destination Code',\n",
    "        'destinationIataCodes': 'Departure Code'\n",
    "    },\n",
    "    inplace=True\n",
    ")\n",
    "destinations.head()"
   ]
  },
  {
   "cell_type": "code",
   "execution_count": null,
   "metadata": {},
   "outputs": [],
   "source": []
  }
 ]
}