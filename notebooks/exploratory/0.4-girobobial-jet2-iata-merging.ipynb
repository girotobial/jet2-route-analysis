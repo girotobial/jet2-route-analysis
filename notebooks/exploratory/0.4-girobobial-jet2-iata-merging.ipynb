{
 "metadata": {
  "language_info": {
   "codemirror_mode": {
    "name": "ipython",
    "version": 3
   },
   "file_extension": ".py",
   "mimetype": "text/x-python",
   "name": "python",
   "nbconvert_exporter": "python",
   "pygments_lexer": "ipython3",
   "version": "3.8.2-final"
  },
  "orig_nbformat": 2,
  "kernelspec": {
   "name": "python_defaultSpec_1600533194897",
   "display_name": "Python 3.8.2 64-bit ('venv': venv)"
  }
 },
 "nbformat": 4,
 "nbformat_minor": 2,
 "cells": [
  {
   "cell_type": "code",
   "execution_count": 1,
   "metadata": {},
   "outputs": [],
   "source": [
    "import json\n",
    "from pathlib import Path\n",
    "\n",
    "import pandas as pd"
   ]
  },
  {
   "cell_type": "code",
   "execution_count": 2,
   "metadata": {},
   "outputs": [],
   "source": [
    "base_path = Path().cwd().parent.parent"
   ]
  },
  {
   "cell_type": "code",
   "execution_count": 3,
   "metadata": {},
   "outputs": [],
   "source": [
    "with open(base_path / 'data' / 'external' / 'jet2_data.json') as f:\n",
    "    jet2_json = json.load(f)"
   ]
  },
  {
   "cell_type": "code",
   "execution_count": 4,
   "metadata": {},
   "outputs": [],
   "source": [
    "jet2 = pd.DataFrame(jet2_json['Data'])\n",
    "jet2 = jet2[jet2['isEnabledForBooking'] == True]\n",
    "jet2 = jet2[jet2['destinationIataCodes'] != '']"
   ]
  },
  {
   "cell_type": "code",
   "execution_count": 5,
   "metadata": {},
   "outputs": [
    {
     "output_type": "execute_result",
     "data": {
      "text/plain": "       country                     label code  isDepartureAirport  \\\n2        Spain              Alicante ALC  ALC                True   \n3        Spain               Almeria LEI  LEI                True   \n4  Netherlands             Amsterdam AMS  AMS                True   \n5       Turkey               Antalya AYT  AYT                True   \n7        Spain  Barcelona Terminal 2 BCN  BCN                True   \n\n   isDestinationAirport                 destinationIataCodes  \\\n2                  True  BHX|MAN|NCL|LBA|GLA|BFS|EMA|STN|EDI   \n3                  True          BHX|STN|MAN|GLA|NCL|EMA|LBA   \n4                  True                                  LBA   \n5                  True  EDI|NCL|LBA|GLA|BFS|MAN|BHX|STN|EMA   \n7                  True                      BHX|MAN|LBA|GLA   \n\n                                         searchTerms  isEnabledForBooking  \\\n2  [ALC, Alicante, ALC, Benidorm, Costa Blanca, S...                 True   \n3                         [LEI, Almeria, LEI, Spain]                 True   \n4  [AMS, Amsterdam, AMS, Holland, Netherlands, Ne...                 True   \n5                        [AYT, Antalya, AYT, Turkey]                 True   \n7  [BCN, Barcelona, Terminal, BCN, ski, Andorra, ...                 True   \n\n  airportUrlKey  \n2      alicante  \n3       almeria  \n4     amsterdam  \n5       antalya  \n7     barcelona  ",
      "text/html": "<div>\n<style scoped>\n    .dataframe tbody tr th:only-of-type {\n        vertical-align: middle;\n    }\n\n    .dataframe tbody tr th {\n        vertical-align: top;\n    }\n\n    .dataframe thead th {\n        text-align: right;\n    }\n</style>\n<table border=\"1\" class=\"dataframe\">\n  <thead>\n    <tr style=\"text-align: right;\">\n      <th></th>\n      <th>country</th>\n      <th>label</th>\n      <th>code</th>\n      <th>isDepartureAirport</th>\n      <th>isDestinationAirport</th>\n      <th>destinationIataCodes</th>\n      <th>searchTerms</th>\n      <th>isEnabledForBooking</th>\n      <th>airportUrlKey</th>\n    </tr>\n  </thead>\n  <tbody>\n    <tr>\n      <th>2</th>\n      <td>Spain</td>\n      <td>Alicante ALC</td>\n      <td>ALC</td>\n      <td>True</td>\n      <td>True</td>\n      <td>BHX|MAN|NCL|LBA|GLA|BFS|EMA|STN|EDI</td>\n      <td>[ALC, Alicante, ALC, Benidorm, Costa Blanca, S...</td>\n      <td>True</td>\n      <td>alicante</td>\n    </tr>\n    <tr>\n      <th>3</th>\n      <td>Spain</td>\n      <td>Almeria LEI</td>\n      <td>LEI</td>\n      <td>True</td>\n      <td>True</td>\n      <td>BHX|STN|MAN|GLA|NCL|EMA|LBA</td>\n      <td>[LEI, Almeria, LEI, Spain]</td>\n      <td>True</td>\n      <td>almeria</td>\n    </tr>\n    <tr>\n      <th>4</th>\n      <td>Netherlands</td>\n      <td>Amsterdam AMS</td>\n      <td>AMS</td>\n      <td>True</td>\n      <td>True</td>\n      <td>LBA</td>\n      <td>[AMS, Amsterdam, AMS, Holland, Netherlands, Ne...</td>\n      <td>True</td>\n      <td>amsterdam</td>\n    </tr>\n    <tr>\n      <th>5</th>\n      <td>Turkey</td>\n      <td>Antalya AYT</td>\n      <td>AYT</td>\n      <td>True</td>\n      <td>True</td>\n      <td>EDI|NCL|LBA|GLA|BFS|MAN|BHX|STN|EMA</td>\n      <td>[AYT, Antalya, AYT, Turkey]</td>\n      <td>True</td>\n      <td>antalya</td>\n    </tr>\n    <tr>\n      <th>7</th>\n      <td>Spain</td>\n      <td>Barcelona Terminal 2 BCN</td>\n      <td>BCN</td>\n      <td>True</td>\n      <td>True</td>\n      <td>BHX|MAN|LBA|GLA</td>\n      <td>[BCN, Barcelona, Terminal, BCN, ski, Andorra, ...</td>\n      <td>True</td>\n      <td>barcelona</td>\n    </tr>\n  </tbody>\n</table>\n</div>"
     },
     "metadata": {},
     "execution_count": 5
    }
   ],
   "source": [
    "jet2.head()"
   ]
  },
  {
   "cell_type": "code",
   "execution_count": 6,
   "metadata": {},
   "outputs": [],
   "source": [
    "jet2.drop(\n",
    "    columns=[\n",
    "        'searchTerms',\n",
    "        'airportUrlKey',\n",
    "        'isEnabledForBooking',\n",
    "        'country',\n",
    "        'label',\n",
    "    ],\n",
    "    inplace=True\n",
    ")"
   ]
  },
  {
   "cell_type": "code",
   "execution_count": 7,
   "metadata": {
    "tags": []
   },
   "outputs": [
    {
     "output_type": "stream",
     "name": "stdout",
     "text": "<class 'pandas.core.frame.DataFrame'>\nInt64Index: 79 entries, 2 to 104\nData columns (total 4 columns):\n #   Column                Non-Null Count  Dtype \n---  ------                --------------  ----- \n 0   code                  79 non-null     object\n 1   isDepartureAirport    79 non-null     bool  \n 2   isDestinationAirport  79 non-null     bool  \n 3   destinationIataCodes  79 non-null     object\ndtypes: bool(2), object(2)\nmemory usage: 2.0+ KB\n"
    }
   ],
   "source": [
    "jet2.info()"
   ]
  },
  {
   "cell_type": "code",
   "execution_count": 8,
   "metadata": {},
   "outputs": [],
   "source": [
    "airport_column_info = pd.read_csv(\n",
    "    base_path / 'data' / 'external' / 'airport_database_headers',\n",
    "    index_col=['Field']\n",
    ")\n"
   ]
  },
  {
   "cell_type": "code",
   "execution_count": 9,
   "metadata": {},
   "outputs": [
    {
     "output_type": "execute_result",
     "data": {
      "text/plain": "                            Name  \\\nField                              \n1                      ICAO Code   \n2                      IATA Code   \n3                   Airport Name   \n4                      City/Town   \n5                        Country   \n6               Latitude Degrees   \n7               Latitude Minutes   \n8               Latitude Seconds   \n9             Latitude Direction   \n10             Longitude Degrees   \n11             Longitude Minutes   \n12             Longitude Seconds   \n13           Longitude Direction   \n14                      Altitude   \n16      Latitude Decimal Degrees   \n17     Longitude Decimal Degrees   \n\n                                                    Type  \nField                                                     \n1                              String (3-4 chars, A - Z)  \n2                                String (3 chars, A - Z)  \n3                                                 String  \n4                                                 String  \n5                                                 String  \n6                                        Integer [0,360]  \n7                                         Integer [0,60]  \n8                                         Integer [0,60]  \n9                                          Char (N or S)  \n10                                       Integer [0,360]  \n11                                        Integer [0,60]  \n12                                        Integer [0,60]  \n13                                         Char (E or W)  \n14     Integer [-99999,+99999](Altitude in meters fro...  \n16                               Floating point [-90,90]  \n17                             Floating point [-180,180]  ",
      "text/html": "<div>\n<style scoped>\n    .dataframe tbody tr th:only-of-type {\n        vertical-align: middle;\n    }\n\n    .dataframe tbody tr th {\n        vertical-align: top;\n    }\n\n    .dataframe thead th {\n        text-align: right;\n    }\n</style>\n<table border=\"1\" class=\"dataframe\">\n  <thead>\n    <tr style=\"text-align: right;\">\n      <th></th>\n      <th>Name</th>\n      <th>Type</th>\n    </tr>\n    <tr>\n      <th>Field</th>\n      <th></th>\n      <th></th>\n    </tr>\n  </thead>\n  <tbody>\n    <tr>\n      <th>1</th>\n      <td>ICAO Code</td>\n      <td>String (3-4 chars, A - Z)</td>\n    </tr>\n    <tr>\n      <th>2</th>\n      <td>IATA Code</td>\n      <td>String (3 chars, A - Z)</td>\n    </tr>\n    <tr>\n      <th>3</th>\n      <td>Airport Name</td>\n      <td>String</td>\n    </tr>\n    <tr>\n      <th>4</th>\n      <td>City/Town</td>\n      <td>String</td>\n    </tr>\n    <tr>\n      <th>5</th>\n      <td>Country</td>\n      <td>String</td>\n    </tr>\n    <tr>\n      <th>6</th>\n      <td>Latitude Degrees</td>\n      <td>Integer [0,360]</td>\n    </tr>\n    <tr>\n      <th>7</th>\n      <td>Latitude Minutes</td>\n      <td>Integer [0,60]</td>\n    </tr>\n    <tr>\n      <th>8</th>\n      <td>Latitude Seconds</td>\n      <td>Integer [0,60]</td>\n    </tr>\n    <tr>\n      <th>9</th>\n      <td>Latitude Direction</td>\n      <td>Char (N or S)</td>\n    </tr>\n    <tr>\n      <th>10</th>\n      <td>Longitude Degrees</td>\n      <td>Integer [0,360]</td>\n    </tr>\n    <tr>\n      <th>11</th>\n      <td>Longitude Minutes</td>\n      <td>Integer [0,60]</td>\n    </tr>\n    <tr>\n      <th>12</th>\n      <td>Longitude Seconds</td>\n      <td>Integer [0,60]</td>\n    </tr>\n    <tr>\n      <th>13</th>\n      <td>Longitude Direction</td>\n      <td>Char (E or W)</td>\n    </tr>\n    <tr>\n      <th>14</th>\n      <td>Altitude</td>\n      <td>Integer [-99999,+99999](Altitude in meters fro...</td>\n    </tr>\n    <tr>\n      <th>16</th>\n      <td>Latitude Decimal Degrees</td>\n      <td>Floating point [-90,90]</td>\n    </tr>\n    <tr>\n      <th>17</th>\n      <td>Longitude Decimal Degrees</td>\n      <td>Floating point [-180,180]</td>\n    </tr>\n  </tbody>\n</table>\n</div>"
     },
     "metadata": {},
     "execution_count": 9
    }
   ],
   "source": [
    "airport_column_info"
   ]
  },
  {
   "cell_type": "code",
   "execution_count": 10,
   "metadata": {},
   "outputs": [],
   "source": [
    "airport_columns = airport_column_info['Name'].to_list()"
   ]
  },
  {
   "cell_type": "code",
   "execution_count": 11,
   "metadata": {},
   "outputs": [
    {
     "output_type": "execute_result",
     "data": {
      "text/plain": "     0    1            2            3                 4   5   6   7  8    9   \\\n0  AYGA  GKA       GOROKA       GOROKA  PAPUA NEW GUINEA   6   4  54  S  145   \n1  AYLA  LAE          NaN          LAE  PAPUA NEW GUINEA   0   0   0  U    0   \n2  AYMD  MAG       MADANG       MADANG  PAPUA NEW GUINEA   5  12  25  S  145   \n3  AYMH  HGU  MOUNT HAGEN  MOUNT HAGEN  PAPUA NEW GUINEA   5  49  34  S  144   \n4  AYNZ  LAE       NADZAB       NADZAB  PAPUA NEW GUINEA   6  34  11  S  146   \n\n   10  11 12    13     14       15  \n0  23  30  E  1610 -6.082  145.392  \n1   0   0  U     0  0.000    0.000  \n2  47  19  E     7 -5.207  145.789  \n3  17  46  E  1643 -5.826  144.296  \n4  43  34  E    73 -6.570  146.726  ",
      "text/html": "<div>\n<style scoped>\n    .dataframe tbody tr th:only-of-type {\n        vertical-align: middle;\n    }\n\n    .dataframe tbody tr th {\n        vertical-align: top;\n    }\n\n    .dataframe thead th {\n        text-align: right;\n    }\n</style>\n<table border=\"1\" class=\"dataframe\">\n  <thead>\n    <tr style=\"text-align: right;\">\n      <th></th>\n      <th>0</th>\n      <th>1</th>\n      <th>2</th>\n      <th>3</th>\n      <th>4</th>\n      <th>5</th>\n      <th>6</th>\n      <th>7</th>\n      <th>8</th>\n      <th>9</th>\n      <th>10</th>\n      <th>11</th>\n      <th>12</th>\n      <th>13</th>\n      <th>14</th>\n      <th>15</th>\n    </tr>\n  </thead>\n  <tbody>\n    <tr>\n      <th>0</th>\n      <td>AYGA</td>\n      <td>GKA</td>\n      <td>GOROKA</td>\n      <td>GOROKA</td>\n      <td>PAPUA NEW GUINEA</td>\n      <td>6</td>\n      <td>4</td>\n      <td>54</td>\n      <td>S</td>\n      <td>145</td>\n      <td>23</td>\n      <td>30</td>\n      <td>E</td>\n      <td>1610</td>\n      <td>-6.082</td>\n      <td>145.392</td>\n    </tr>\n    <tr>\n      <th>1</th>\n      <td>AYLA</td>\n      <td>LAE</td>\n      <td>NaN</td>\n      <td>LAE</td>\n      <td>PAPUA NEW GUINEA</td>\n      <td>0</td>\n      <td>0</td>\n      <td>0</td>\n      <td>U</td>\n      <td>0</td>\n      <td>0</td>\n      <td>0</td>\n      <td>U</td>\n      <td>0</td>\n      <td>0.000</td>\n      <td>0.000</td>\n    </tr>\n    <tr>\n      <th>2</th>\n      <td>AYMD</td>\n      <td>MAG</td>\n      <td>MADANG</td>\n      <td>MADANG</td>\n      <td>PAPUA NEW GUINEA</td>\n      <td>5</td>\n      <td>12</td>\n      <td>25</td>\n      <td>S</td>\n      <td>145</td>\n      <td>47</td>\n      <td>19</td>\n      <td>E</td>\n      <td>7</td>\n      <td>-5.207</td>\n      <td>145.789</td>\n    </tr>\n    <tr>\n      <th>3</th>\n      <td>AYMH</td>\n      <td>HGU</td>\n      <td>MOUNT HAGEN</td>\n      <td>MOUNT HAGEN</td>\n      <td>PAPUA NEW GUINEA</td>\n      <td>5</td>\n      <td>49</td>\n      <td>34</td>\n      <td>S</td>\n      <td>144</td>\n      <td>17</td>\n      <td>46</td>\n      <td>E</td>\n      <td>1643</td>\n      <td>-5.826</td>\n      <td>144.296</td>\n    </tr>\n    <tr>\n      <th>4</th>\n      <td>AYNZ</td>\n      <td>LAE</td>\n      <td>NADZAB</td>\n      <td>NADZAB</td>\n      <td>PAPUA NEW GUINEA</td>\n      <td>6</td>\n      <td>34</td>\n      <td>11</td>\n      <td>S</td>\n      <td>146</td>\n      <td>43</td>\n      <td>34</td>\n      <td>E</td>\n      <td>73</td>\n      <td>-6.570</td>\n      <td>146.726</td>\n    </tr>\n  </tbody>\n</table>\n</div>"
     },
     "metadata": {},
     "execution_count": 11
    }
   ],
   "source": [
    "airports = pd.read_table(\n",
    "     base_path / 'data' / 'external' / 'airport_database',\n",
    "     sep=':',\n",
    "     header=None\n",
    ")\n",
    "airports.head()"
   ]
  },
  {
   "cell_type": "code",
   "execution_count": 12,
   "metadata": {},
   "outputs": [
    {
     "output_type": "execute_result",
     "data": {
      "text/plain": "  ICAO Code IATA Code Airport Name    City/Town           Country  \\\n0      AYGA       GKA       GOROKA       GOROKA  PAPUA NEW GUINEA   \n1      AYLA       LAE          NaN          LAE  PAPUA NEW GUINEA   \n2      AYMD       MAG       MADANG       MADANG  PAPUA NEW GUINEA   \n3      AYMH       HGU  MOUNT HAGEN  MOUNT HAGEN  PAPUA NEW GUINEA   \n4      AYNZ       LAE       NADZAB       NADZAB  PAPUA NEW GUINEA   \n\n   Latitude Degrees  Latitude Minutes  Latitude Seconds Latitude Direction  \\\n0                 6                 4                54                  S   \n1                 0                 0                 0                  U   \n2                 5                12                25                  S   \n3                 5                49                34                  S   \n4                 6                34                11                  S   \n\n   Longitude Degrees  Longitude Minutes  Longitude Seconds  \\\n0                145                 23                 30   \n1                  0                  0                  0   \n2                145                 47                 19   \n3                144                 17                 46   \n4                146                 43                 34   \n\n  Longitude Direction  Altitude  Latitude Decimal Degrees  \\\n0                   E      1610                    -6.082   \n1                   U         0                     0.000   \n2                   E         7                    -5.207   \n3                   E      1643                    -5.826   \n4                   E        73                    -6.570   \n\n   Longitude Decimal Degrees  \n0                    145.392  \n1                      0.000  \n2                    145.789  \n3                    144.296  \n4                    146.726  ",
      "text/html": "<div>\n<style scoped>\n    .dataframe tbody tr th:only-of-type {\n        vertical-align: middle;\n    }\n\n    .dataframe tbody tr th {\n        vertical-align: top;\n    }\n\n    .dataframe thead th {\n        text-align: right;\n    }\n</style>\n<table border=\"1\" class=\"dataframe\">\n  <thead>\n    <tr style=\"text-align: right;\">\n      <th></th>\n      <th>ICAO Code</th>\n      <th>IATA Code</th>\n      <th>Airport Name</th>\n      <th>City/Town</th>\n      <th>Country</th>\n      <th>Latitude Degrees</th>\n      <th>Latitude Minutes</th>\n      <th>Latitude Seconds</th>\n      <th>Latitude Direction</th>\n      <th>Longitude Degrees</th>\n      <th>Longitude Minutes</th>\n      <th>Longitude Seconds</th>\n      <th>Longitude Direction</th>\n      <th>Altitude</th>\n      <th>Latitude Decimal Degrees</th>\n      <th>Longitude Decimal Degrees</th>\n    </tr>\n  </thead>\n  <tbody>\n    <tr>\n      <th>0</th>\n      <td>AYGA</td>\n      <td>GKA</td>\n      <td>GOROKA</td>\n      <td>GOROKA</td>\n      <td>PAPUA NEW GUINEA</td>\n      <td>6</td>\n      <td>4</td>\n      <td>54</td>\n      <td>S</td>\n      <td>145</td>\n      <td>23</td>\n      <td>30</td>\n      <td>E</td>\n      <td>1610</td>\n      <td>-6.082</td>\n      <td>145.392</td>\n    </tr>\n    <tr>\n      <th>1</th>\n      <td>AYLA</td>\n      <td>LAE</td>\n      <td>NaN</td>\n      <td>LAE</td>\n      <td>PAPUA NEW GUINEA</td>\n      <td>0</td>\n      <td>0</td>\n      <td>0</td>\n      <td>U</td>\n      <td>0</td>\n      <td>0</td>\n      <td>0</td>\n      <td>U</td>\n      <td>0</td>\n      <td>0.000</td>\n      <td>0.000</td>\n    </tr>\n    <tr>\n      <th>2</th>\n      <td>AYMD</td>\n      <td>MAG</td>\n      <td>MADANG</td>\n      <td>MADANG</td>\n      <td>PAPUA NEW GUINEA</td>\n      <td>5</td>\n      <td>12</td>\n      <td>25</td>\n      <td>S</td>\n      <td>145</td>\n      <td>47</td>\n      <td>19</td>\n      <td>E</td>\n      <td>7</td>\n      <td>-5.207</td>\n      <td>145.789</td>\n    </tr>\n    <tr>\n      <th>3</th>\n      <td>AYMH</td>\n      <td>HGU</td>\n      <td>MOUNT HAGEN</td>\n      <td>MOUNT HAGEN</td>\n      <td>PAPUA NEW GUINEA</td>\n      <td>5</td>\n      <td>49</td>\n      <td>34</td>\n      <td>S</td>\n      <td>144</td>\n      <td>17</td>\n      <td>46</td>\n      <td>E</td>\n      <td>1643</td>\n      <td>-5.826</td>\n      <td>144.296</td>\n    </tr>\n    <tr>\n      <th>4</th>\n      <td>AYNZ</td>\n      <td>LAE</td>\n      <td>NADZAB</td>\n      <td>NADZAB</td>\n      <td>PAPUA NEW GUINEA</td>\n      <td>6</td>\n      <td>34</td>\n      <td>11</td>\n      <td>S</td>\n      <td>146</td>\n      <td>43</td>\n      <td>34</td>\n      <td>E</td>\n      <td>73</td>\n      <td>-6.570</td>\n      <td>146.726</td>\n    </tr>\n  </tbody>\n</table>\n</div>"
     },
     "metadata": {},
     "execution_count": 12
    }
   ],
   "source": [
    "airports.columns = airport_columns\n",
    "airports.head()"
   ]
  },
  {
   "cell_type": "code",
   "execution_count": 13,
   "metadata": {},
   "outputs": [
    {
     "output_type": "execute_result",
     "data": {
      "text/plain": "  ICAO Code IATA Code Airport Name    City/Town           Country  \\\n0      AYGA       GKA       GOROKA       Goroka  Papua New Guinea   \n1      AYLA       LAE          NaN          Lae  Papua New Guinea   \n2      AYMD       MAG       MADANG       Madang  Papua New Guinea   \n3      AYMH       HGU  MOUNT HAGEN  Mount Hagen  Papua New Guinea   \n4      AYNZ       LAE       NADZAB       Nadzab  Papua New Guinea   \n\n   Latitude Degrees  Latitude Minutes  Latitude Seconds Latitude Direction  \\\n0                 6                 4                54                  S   \n1                 0                 0                 0                  U   \n2                 5                12                25                  S   \n3                 5                49                34                  S   \n4                 6                34                11                  S   \n\n   Longitude Degrees  Longitude Minutes  Longitude Seconds  \\\n0                145                 23                 30   \n1                  0                  0                  0   \n2                145                 47                 19   \n3                144                 17                 46   \n4                146                 43                 34   \n\n  Longitude Direction  Altitude  Latitude Decimal Degrees  \\\n0                   E      1610                    -6.082   \n1                   U         0                     0.000   \n2                   E         7                    -5.207   \n3                   E      1643                    -5.826   \n4                   E        73                    -6.570   \n\n   Longitude Decimal Degrees  \n0                    145.392  \n1                      0.000  \n2                    145.789  \n3                    144.296  \n4                    146.726  ",
      "text/html": "<div>\n<style scoped>\n    .dataframe tbody tr th:only-of-type {\n        vertical-align: middle;\n    }\n\n    .dataframe tbody tr th {\n        vertical-align: top;\n    }\n\n    .dataframe thead th {\n        text-align: right;\n    }\n</style>\n<table border=\"1\" class=\"dataframe\">\n  <thead>\n    <tr style=\"text-align: right;\">\n      <th></th>\n      <th>ICAO Code</th>\n      <th>IATA Code</th>\n      <th>Airport Name</th>\n      <th>City/Town</th>\n      <th>Country</th>\n      <th>Latitude Degrees</th>\n      <th>Latitude Minutes</th>\n      <th>Latitude Seconds</th>\n      <th>Latitude Direction</th>\n      <th>Longitude Degrees</th>\n      <th>Longitude Minutes</th>\n      <th>Longitude Seconds</th>\n      <th>Longitude Direction</th>\n      <th>Altitude</th>\n      <th>Latitude Decimal Degrees</th>\n      <th>Longitude Decimal Degrees</th>\n    </tr>\n  </thead>\n  <tbody>\n    <tr>\n      <th>0</th>\n      <td>AYGA</td>\n      <td>GKA</td>\n      <td>GOROKA</td>\n      <td>Goroka</td>\n      <td>Papua New Guinea</td>\n      <td>6</td>\n      <td>4</td>\n      <td>54</td>\n      <td>S</td>\n      <td>145</td>\n      <td>23</td>\n      <td>30</td>\n      <td>E</td>\n      <td>1610</td>\n      <td>-6.082</td>\n      <td>145.392</td>\n    </tr>\n    <tr>\n      <th>1</th>\n      <td>AYLA</td>\n      <td>LAE</td>\n      <td>NaN</td>\n      <td>Lae</td>\n      <td>Papua New Guinea</td>\n      <td>0</td>\n      <td>0</td>\n      <td>0</td>\n      <td>U</td>\n      <td>0</td>\n      <td>0</td>\n      <td>0</td>\n      <td>U</td>\n      <td>0</td>\n      <td>0.000</td>\n      <td>0.000</td>\n    </tr>\n    <tr>\n      <th>2</th>\n      <td>AYMD</td>\n      <td>MAG</td>\n      <td>MADANG</td>\n      <td>Madang</td>\n      <td>Papua New Guinea</td>\n      <td>5</td>\n      <td>12</td>\n      <td>25</td>\n      <td>S</td>\n      <td>145</td>\n      <td>47</td>\n      <td>19</td>\n      <td>E</td>\n      <td>7</td>\n      <td>-5.207</td>\n      <td>145.789</td>\n    </tr>\n    <tr>\n      <th>3</th>\n      <td>AYMH</td>\n      <td>HGU</td>\n      <td>MOUNT HAGEN</td>\n      <td>Mount Hagen</td>\n      <td>Papua New Guinea</td>\n      <td>5</td>\n      <td>49</td>\n      <td>34</td>\n      <td>S</td>\n      <td>144</td>\n      <td>17</td>\n      <td>46</td>\n      <td>E</td>\n      <td>1643</td>\n      <td>-5.826</td>\n      <td>144.296</td>\n    </tr>\n    <tr>\n      <th>4</th>\n      <td>AYNZ</td>\n      <td>LAE</td>\n      <td>NADZAB</td>\n      <td>Nadzab</td>\n      <td>Papua New Guinea</td>\n      <td>6</td>\n      <td>34</td>\n      <td>11</td>\n      <td>S</td>\n      <td>146</td>\n      <td>43</td>\n      <td>34</td>\n      <td>E</td>\n      <td>73</td>\n      <td>-6.570</td>\n      <td>146.726</td>\n    </tr>\n  </tbody>\n</table>\n</div>"
     },
     "metadata": {},
     "execution_count": 13
    }
   ],
   "source": [
    "airports['City/Town'] = airports['City/Town'].str.title()\n",
    "airports['Country'] = airports['Country'].str.title()\n",
    "airports.head()"
   ]
  },
  {
   "cell_type": "code",
   "execution_count": 14,
   "metadata": {},
   "outputs": [],
   "source": [
    "sub_titles = ['Degrees', 'Minutes', 'Seconds', 'Direction']\n",
    "\n",
    "airports.drop(\n",
    "    columns=[\n",
    "        *[f'Latitude {sub}' for sub in sub_titles],\n",
    "        *[f'Longitude {sub}' for sub in sub_titles],\n",
    "        'ICAO Code',\n",
    "        'Airport Name',\n",
    "    ],\n",
    "    inplace=True\n",
    ")"
   ]
  },
  {
   "cell_type": "code",
   "execution_count": 15,
   "metadata": {},
   "outputs": [],
   "source": [
    "airports.rename(\n",
    "    columns={\n",
    "        'Latitude Decimal Degrees': 'Latitude',\n",
    "        'Longitude Decimal Degrees': 'Longitude'\n",
    "    },\n",
    "    inplace=True\n",
    ")"
   ]
  },
  {
   "cell_type": "code",
   "execution_count": 16,
   "metadata": {},
   "outputs": [
    {
     "output_type": "execute_result",
     "data": {
      "text/plain": "  code  isDepartureAirport  isDestinationAirport  \\\n0  ALC                True                  True   \n1  LEI                True                  True   \n2  AMS                True                  True   \n3  AYT                True                  True   \n4  BCN                True                  True   \n\n                  destinationIataCodes  City/Town      Country  Altitude  \\\n0  BHX|MAN|NCL|LBA|GLA|BFS|EMA|STN|EDI   Alicante        Spain        44   \n1          BHX|STN|MAN|GLA|NCL|EMA|LBA    Almeria        Spain        22   \n2                                  LBA  Amsterdam  Netherlands        -3   \n3  EDI|NCL|LBA|GLA|BFS|MAN|BHX|STN|EMA    Antalya       Turkey        54   \n4                      BHX|MAN|LBA|GLA  Barcelona        Spain         4   \n\n   Latitude  Longitude  \n0    38.282     -0.558  \n1    36.844     -2.370  \n2    52.309      4.764  \n3    36.901     30.792  \n4    41.297      2.078  ",
      "text/html": "<div>\n<style scoped>\n    .dataframe tbody tr th:only-of-type {\n        vertical-align: middle;\n    }\n\n    .dataframe tbody tr th {\n        vertical-align: top;\n    }\n\n    .dataframe thead th {\n        text-align: right;\n    }\n</style>\n<table border=\"1\" class=\"dataframe\">\n  <thead>\n    <tr style=\"text-align: right;\">\n      <th></th>\n      <th>code</th>\n      <th>isDepartureAirport</th>\n      <th>isDestinationAirport</th>\n      <th>destinationIataCodes</th>\n      <th>City/Town</th>\n      <th>Country</th>\n      <th>Altitude</th>\n      <th>Latitude</th>\n      <th>Longitude</th>\n    </tr>\n  </thead>\n  <tbody>\n    <tr>\n      <th>0</th>\n      <td>ALC</td>\n      <td>True</td>\n      <td>True</td>\n      <td>BHX|MAN|NCL|LBA|GLA|BFS|EMA|STN|EDI</td>\n      <td>Alicante</td>\n      <td>Spain</td>\n      <td>44</td>\n      <td>38.282</td>\n      <td>-0.558</td>\n    </tr>\n    <tr>\n      <th>1</th>\n      <td>LEI</td>\n      <td>True</td>\n      <td>True</td>\n      <td>BHX|STN|MAN|GLA|NCL|EMA|LBA</td>\n      <td>Almeria</td>\n      <td>Spain</td>\n      <td>22</td>\n      <td>36.844</td>\n      <td>-2.370</td>\n    </tr>\n    <tr>\n      <th>2</th>\n      <td>AMS</td>\n      <td>True</td>\n      <td>True</td>\n      <td>LBA</td>\n      <td>Amsterdam</td>\n      <td>Netherlands</td>\n      <td>-3</td>\n      <td>52.309</td>\n      <td>4.764</td>\n    </tr>\n    <tr>\n      <th>3</th>\n      <td>AYT</td>\n      <td>True</td>\n      <td>True</td>\n      <td>EDI|NCL|LBA|GLA|BFS|MAN|BHX|STN|EMA</td>\n      <td>Antalya</td>\n      <td>Turkey</td>\n      <td>54</td>\n      <td>36.901</td>\n      <td>30.792</td>\n    </tr>\n    <tr>\n      <th>4</th>\n      <td>BCN</td>\n      <td>True</td>\n      <td>True</td>\n      <td>BHX|MAN|LBA|GLA</td>\n      <td>Barcelona</td>\n      <td>Spain</td>\n      <td>4</td>\n      <td>41.297</td>\n      <td>2.078</td>\n    </tr>\n  </tbody>\n</table>\n</div>"
     },
     "metadata": {},
     "execution_count": 16
    }
   ],
   "source": [
    "jet2 = jet2.merge(\n",
    "    airports,\n",
    "    left_on='code',\n",
    "    right_on='IATA Code',\n",
    ")\n",
    "jet2.drop(columns=['IATA Code'], inplace=True)\n",
    "jet2.head()"
   ]
  },
  {
   "cell_type": "code",
   "execution_count": 17,
   "metadata": {},
   "outputs": [
    {
     "output_type": "execute_result",
     "data": {
      "text/plain": "  code  isDepartureAirport  isDestinationAirport  \\\n0  ALC                True                  True   \n1  LEI                True                  True   \n2  AMS                True                  True   \n3  AYT                True                  True   \n4  BCN                True                  True   \n\n                            destinationIataCodes  City/Town      Country  \\\n0  [BHX, MAN, NCL, LBA, GLA, BFS, EMA, STN, EDI]   Alicante        Spain   \n1            [BHX, STN, MAN, GLA, NCL, EMA, LBA]    Almeria        Spain   \n2                                          [LBA]  Amsterdam  Netherlands   \n3  [EDI, NCL, LBA, GLA, BFS, MAN, BHX, STN, EMA]    Antalya       Turkey   \n4                           [BHX, MAN, LBA, GLA]  Barcelona        Spain   \n\n   Altitude  Latitude  Longitude  \n0        44    38.282     -0.558  \n1        22    36.844     -2.370  \n2        -3    52.309      4.764  \n3        54    36.901     30.792  \n4         4    41.297      2.078  ",
      "text/html": "<div>\n<style scoped>\n    .dataframe tbody tr th:only-of-type {\n        vertical-align: middle;\n    }\n\n    .dataframe tbody tr th {\n        vertical-align: top;\n    }\n\n    .dataframe thead th {\n        text-align: right;\n    }\n</style>\n<table border=\"1\" class=\"dataframe\">\n  <thead>\n    <tr style=\"text-align: right;\">\n      <th></th>\n      <th>code</th>\n      <th>isDepartureAirport</th>\n      <th>isDestinationAirport</th>\n      <th>destinationIataCodes</th>\n      <th>City/Town</th>\n      <th>Country</th>\n      <th>Altitude</th>\n      <th>Latitude</th>\n      <th>Longitude</th>\n    </tr>\n  </thead>\n  <tbody>\n    <tr>\n      <th>0</th>\n      <td>ALC</td>\n      <td>True</td>\n      <td>True</td>\n      <td>[BHX, MAN, NCL, LBA, GLA, BFS, EMA, STN, EDI]</td>\n      <td>Alicante</td>\n      <td>Spain</td>\n      <td>44</td>\n      <td>38.282</td>\n      <td>-0.558</td>\n    </tr>\n    <tr>\n      <th>1</th>\n      <td>LEI</td>\n      <td>True</td>\n      <td>True</td>\n      <td>[BHX, STN, MAN, GLA, NCL, EMA, LBA]</td>\n      <td>Almeria</td>\n      <td>Spain</td>\n      <td>22</td>\n      <td>36.844</td>\n      <td>-2.370</td>\n    </tr>\n    <tr>\n      <th>2</th>\n      <td>AMS</td>\n      <td>True</td>\n      <td>True</td>\n      <td>[LBA]</td>\n      <td>Amsterdam</td>\n      <td>Netherlands</td>\n      <td>-3</td>\n      <td>52.309</td>\n      <td>4.764</td>\n    </tr>\n    <tr>\n      <th>3</th>\n      <td>AYT</td>\n      <td>True</td>\n      <td>True</td>\n      <td>[EDI, NCL, LBA, GLA, BFS, MAN, BHX, STN, EMA]</td>\n      <td>Antalya</td>\n      <td>Turkey</td>\n      <td>54</td>\n      <td>36.901</td>\n      <td>30.792</td>\n    </tr>\n    <tr>\n      <th>4</th>\n      <td>BCN</td>\n      <td>True</td>\n      <td>True</td>\n      <td>[BHX, MAN, LBA, GLA]</td>\n      <td>Barcelona</td>\n      <td>Spain</td>\n      <td>4</td>\n      <td>41.297</td>\n      <td>2.078</td>\n    </tr>\n  </tbody>\n</table>\n</div>"
     },
     "metadata": {},
     "execution_count": 17
    }
   ],
   "source": [
    "jet2['destinationIataCodes'] = jet2['destinationIataCodes'].apply(lambda x: x.split('|'))\n",
    "jet2.head()"
   ]
  },
  {
   "cell_type": "code",
   "execution_count": 18,
   "metadata": {},
   "outputs": [],
   "source": [
    "jet2 = jet2.explode('destinationIataCodes')"
   ]
  },
  {
   "cell_type": "code",
   "execution_count": 19,
   "metadata": {},
   "outputs": [
    {
     "output_type": "execute_result",
     "data": {
      "text/plain": "  code  isDepartureAirport  isDestinationAirport destinationIataCodes  \\\n0  ALC                True                  True                  BHX   \n0  ALC                True                  True                  MAN   \n0  ALC                True                  True                  NCL   \n0  ALC                True                  True                  LBA   \n0  ALC                True                  True                  GLA   \n\n  City/Town Country  Altitude  Latitude  Longitude  \n0  Alicante   Spain        44    38.282     -0.558  \n0  Alicante   Spain        44    38.282     -0.558  \n0  Alicante   Spain        44    38.282     -0.558  \n0  Alicante   Spain        44    38.282     -0.558  \n0  Alicante   Spain        44    38.282     -0.558  ",
      "text/html": "<div>\n<style scoped>\n    .dataframe tbody tr th:only-of-type {\n        vertical-align: middle;\n    }\n\n    .dataframe tbody tr th {\n        vertical-align: top;\n    }\n\n    .dataframe thead th {\n        text-align: right;\n    }\n</style>\n<table border=\"1\" class=\"dataframe\">\n  <thead>\n    <tr style=\"text-align: right;\">\n      <th></th>\n      <th>code</th>\n      <th>isDepartureAirport</th>\n      <th>isDestinationAirport</th>\n      <th>destinationIataCodes</th>\n      <th>City/Town</th>\n      <th>Country</th>\n      <th>Altitude</th>\n      <th>Latitude</th>\n      <th>Longitude</th>\n    </tr>\n  </thead>\n  <tbody>\n    <tr>\n      <th>0</th>\n      <td>ALC</td>\n      <td>True</td>\n      <td>True</td>\n      <td>BHX</td>\n      <td>Alicante</td>\n      <td>Spain</td>\n      <td>44</td>\n      <td>38.282</td>\n      <td>-0.558</td>\n    </tr>\n    <tr>\n      <th>0</th>\n      <td>ALC</td>\n      <td>True</td>\n      <td>True</td>\n      <td>MAN</td>\n      <td>Alicante</td>\n      <td>Spain</td>\n      <td>44</td>\n      <td>38.282</td>\n      <td>-0.558</td>\n    </tr>\n    <tr>\n      <th>0</th>\n      <td>ALC</td>\n      <td>True</td>\n      <td>True</td>\n      <td>NCL</td>\n      <td>Alicante</td>\n      <td>Spain</td>\n      <td>44</td>\n      <td>38.282</td>\n      <td>-0.558</td>\n    </tr>\n    <tr>\n      <th>0</th>\n      <td>ALC</td>\n      <td>True</td>\n      <td>True</td>\n      <td>LBA</td>\n      <td>Alicante</td>\n      <td>Spain</td>\n      <td>44</td>\n      <td>38.282</td>\n      <td>-0.558</td>\n    </tr>\n    <tr>\n      <th>0</th>\n      <td>ALC</td>\n      <td>True</td>\n      <td>True</td>\n      <td>GLA</td>\n      <td>Alicante</td>\n      <td>Spain</td>\n      <td>44</td>\n      <td>38.282</td>\n      <td>-0.558</td>\n    </tr>\n  </tbody>\n</table>\n</div>"
     },
     "metadata": {},
     "execution_count": 19
    }
   ],
   "source": [
    "jet2.head()"
   ]
  },
  {
   "cell_type": "code",
   "execution_count": 20,
   "metadata": {},
   "outputs": [],
   "source": [
    "columns = [\n",
    "    'label',\n",
    "    'code',\n",
    "    'City/Town',\n",
    "    'Country',\n",
    "    'Altitude',\n",
    "    'Latitude',\n",
    "    'Longitude'\n",
    "]\n",
    "jet2.rename(\n",
    "    columns={col: f'Departure_{col}' for col in columns},\n",
    "    inplace=True\n",
    ")"
   ]
  },
  {
   "cell_type": "code",
   "execution_count": 21,
   "metadata": {},
   "outputs": [
    {
     "output_type": "execute_result",
     "data": {
      "text/plain": "  Departure_code  isDepartureAirport  isDestinationAirport  \\\n0            ALC                True                  True   \n0            ALC                True                  True   \n0            ALC                True                  True   \n0            ALC                True                  True   \n0            ALC                True                  True   \n\n  destinationIataCodes Departure_City/Town Departure_Country  \\\n0                  BHX            Alicante             Spain   \n0                  MAN            Alicante             Spain   \n0                  NCL            Alicante             Spain   \n0                  LBA            Alicante             Spain   \n0                  GLA            Alicante             Spain   \n\n   Departure_Altitude  Departure_Latitude  Departure_Longitude  \n0                  44              38.282               -0.558  \n0                  44              38.282               -0.558  \n0                  44              38.282               -0.558  \n0                  44              38.282               -0.558  \n0                  44              38.282               -0.558  ",
      "text/html": "<div>\n<style scoped>\n    .dataframe tbody tr th:only-of-type {\n        vertical-align: middle;\n    }\n\n    .dataframe tbody tr th {\n        vertical-align: top;\n    }\n\n    .dataframe thead th {\n        text-align: right;\n    }\n</style>\n<table border=\"1\" class=\"dataframe\">\n  <thead>\n    <tr style=\"text-align: right;\">\n      <th></th>\n      <th>Departure_code</th>\n      <th>isDepartureAirport</th>\n      <th>isDestinationAirport</th>\n      <th>destinationIataCodes</th>\n      <th>Departure_City/Town</th>\n      <th>Departure_Country</th>\n      <th>Departure_Altitude</th>\n      <th>Departure_Latitude</th>\n      <th>Departure_Longitude</th>\n    </tr>\n  </thead>\n  <tbody>\n    <tr>\n      <th>0</th>\n      <td>ALC</td>\n      <td>True</td>\n      <td>True</td>\n      <td>BHX</td>\n      <td>Alicante</td>\n      <td>Spain</td>\n      <td>44</td>\n      <td>38.282</td>\n      <td>-0.558</td>\n    </tr>\n    <tr>\n      <th>0</th>\n      <td>ALC</td>\n      <td>True</td>\n      <td>True</td>\n      <td>MAN</td>\n      <td>Alicante</td>\n      <td>Spain</td>\n      <td>44</td>\n      <td>38.282</td>\n      <td>-0.558</td>\n    </tr>\n    <tr>\n      <th>0</th>\n      <td>ALC</td>\n      <td>True</td>\n      <td>True</td>\n      <td>NCL</td>\n      <td>Alicante</td>\n      <td>Spain</td>\n      <td>44</td>\n      <td>38.282</td>\n      <td>-0.558</td>\n    </tr>\n    <tr>\n      <th>0</th>\n      <td>ALC</td>\n      <td>True</td>\n      <td>True</td>\n      <td>LBA</td>\n      <td>Alicante</td>\n      <td>Spain</td>\n      <td>44</td>\n      <td>38.282</td>\n      <td>-0.558</td>\n    </tr>\n    <tr>\n      <th>0</th>\n      <td>ALC</td>\n      <td>True</td>\n      <td>True</td>\n      <td>GLA</td>\n      <td>Alicante</td>\n      <td>Spain</td>\n      <td>44</td>\n      <td>38.282</td>\n      <td>-0.558</td>\n    </tr>\n  </tbody>\n</table>\n</div>"
     },
     "metadata": {},
     "execution_count": 21
    }
   ],
   "source": [
    "jet2.head()"
   ]
  },
  {
   "cell_type": "code",
   "execution_count": 22,
   "metadata": {},
   "outputs": [
    {
     "output_type": "execute_result",
     "data": {
      "text/plain": "  Departure_code  isDepartureAirport  isDestinationAirport  \\\n0            ALC                True                  True   \n1            ALC                True                  True   \n2            ALC                True                  True   \n3            ALC                True                  True   \n4            ALC                True                  True   \n\n  destinationIataCodes Departure_City/Town Departure_Country  \\\n0                  BHX            Alicante             Spain   \n1                  MAN            Alicante             Spain   \n2                  NCL            Alicante             Spain   \n3                  LBA            Alicante             Spain   \n4                  GLA            Alicante             Spain   \n\n   Departure_Altitude  Departure_Latitude  Departure_Longitude IATA Code  \\\n0                  44              38.282               -0.558       BHX   \n1                  44              38.282               -0.558       MAN   \n2                  44              38.282               -0.558       NCL   \n3                  44              38.282               -0.558       LBA   \n4                  44              38.282               -0.558       GLA   \n\n    City/Town  Country  Altitude  Latitude  Longitude  \n0  Birmingham  England     100.0    52.454     -1.748  \n1  Manchester  England      79.0    53.354     -2.275  \n2   Newcastle  England      82.0    55.038     -1.692  \n3       Leeds  England     208.0    53.866     -1.661  \n4     Glasgow       Uk       8.0    55.872     -4.433  ",
      "text/html": "<div>\n<style scoped>\n    .dataframe tbody tr th:only-of-type {\n        vertical-align: middle;\n    }\n\n    .dataframe tbody tr th {\n        vertical-align: top;\n    }\n\n    .dataframe thead th {\n        text-align: right;\n    }\n</style>\n<table border=\"1\" class=\"dataframe\">\n  <thead>\n    <tr style=\"text-align: right;\">\n      <th></th>\n      <th>Departure_code</th>\n      <th>isDepartureAirport</th>\n      <th>isDestinationAirport</th>\n      <th>destinationIataCodes</th>\n      <th>Departure_City/Town</th>\n      <th>Departure_Country</th>\n      <th>Departure_Altitude</th>\n      <th>Departure_Latitude</th>\n      <th>Departure_Longitude</th>\n      <th>IATA Code</th>\n      <th>City/Town</th>\n      <th>Country</th>\n      <th>Altitude</th>\n      <th>Latitude</th>\n      <th>Longitude</th>\n    </tr>\n  </thead>\n  <tbody>\n    <tr>\n      <th>0</th>\n      <td>ALC</td>\n      <td>True</td>\n      <td>True</td>\n      <td>BHX</td>\n      <td>Alicante</td>\n      <td>Spain</td>\n      <td>44</td>\n      <td>38.282</td>\n      <td>-0.558</td>\n      <td>BHX</td>\n      <td>Birmingham</td>\n      <td>England</td>\n      <td>100.0</td>\n      <td>52.454</td>\n      <td>-1.748</td>\n    </tr>\n    <tr>\n      <th>1</th>\n      <td>ALC</td>\n      <td>True</td>\n      <td>True</td>\n      <td>MAN</td>\n      <td>Alicante</td>\n      <td>Spain</td>\n      <td>44</td>\n      <td>38.282</td>\n      <td>-0.558</td>\n      <td>MAN</td>\n      <td>Manchester</td>\n      <td>England</td>\n      <td>79.0</td>\n      <td>53.354</td>\n      <td>-2.275</td>\n    </tr>\n    <tr>\n      <th>2</th>\n      <td>ALC</td>\n      <td>True</td>\n      <td>True</td>\n      <td>NCL</td>\n      <td>Alicante</td>\n      <td>Spain</td>\n      <td>44</td>\n      <td>38.282</td>\n      <td>-0.558</td>\n      <td>NCL</td>\n      <td>Newcastle</td>\n      <td>England</td>\n      <td>82.0</td>\n      <td>55.038</td>\n      <td>-1.692</td>\n    </tr>\n    <tr>\n      <th>3</th>\n      <td>ALC</td>\n      <td>True</td>\n      <td>True</td>\n      <td>LBA</td>\n      <td>Alicante</td>\n      <td>Spain</td>\n      <td>44</td>\n      <td>38.282</td>\n      <td>-0.558</td>\n      <td>LBA</td>\n      <td>Leeds</td>\n      <td>England</td>\n      <td>208.0</td>\n      <td>53.866</td>\n      <td>-1.661</td>\n    </tr>\n    <tr>\n      <th>4</th>\n      <td>ALC</td>\n      <td>True</td>\n      <td>True</td>\n      <td>GLA</td>\n      <td>Alicante</td>\n      <td>Spain</td>\n      <td>44</td>\n      <td>38.282</td>\n      <td>-0.558</td>\n      <td>GLA</td>\n      <td>Glasgow</td>\n      <td>Uk</td>\n      <td>8.0</td>\n      <td>55.872</td>\n      <td>-4.433</td>\n    </tr>\n  </tbody>\n</table>\n</div>"
     },
     "metadata": {},
     "execution_count": 22
    }
   ],
   "source": [
    "jet2 = jet2.merge(\n",
    "    airports,\n",
    "    left_on='destinationIataCodes',\n",
    "    right_on='IATA Code',\n",
    "    how='left'\n",
    ")\n",
    "jet2.head()"
   ]
  },
  {
   "cell_type": "code",
   "execution_count": 23,
   "metadata": {},
   "outputs": [
    {
     "output_type": "execute_result",
     "data": {
      "text/plain": "  Departure_code  isDepartureAirport  isDestinationAirport  \\\n0            ALC                True                  True   \n1            ALC                True                  True   \n2            ALC                True                  True   \n3            ALC                True                  True   \n4            ALC                True                  True   \n\n  destinationIataCodes Departure_City/Town Departure_Country  \\\n0                  BHX            Alicante             Spain   \n1                  MAN            Alicante             Spain   \n2                  NCL            Alicante             Spain   \n3                  LBA            Alicante             Spain   \n4                  GLA            Alicante             Spain   \n\n   Departure_Altitude  Departure_Latitude  Departure_Longitude IATA Code  \\\n0                  44              38.282               -0.558       BHX   \n1                  44              38.282               -0.558       MAN   \n2                  44              38.282               -0.558       NCL   \n3                  44              38.282               -0.558       LBA   \n4                  44              38.282               -0.558       GLA   \n\n  Destination_City/Town Destination_Country  Destination_Altitude  \\\n0            Birmingham             England                 100.0   \n1            Manchester             England                  79.0   \n2             Newcastle             England                  82.0   \n3                 Leeds             England                 208.0   \n4               Glasgow                  Uk                   8.0   \n\n   Destination_Latitude  Destination_Longitude  \n0                52.454                 -1.748  \n1                53.354                 -2.275  \n2                55.038                 -1.692  \n3                53.866                 -1.661  \n4                55.872                 -4.433  ",
      "text/html": "<div>\n<style scoped>\n    .dataframe tbody tr th:only-of-type {\n        vertical-align: middle;\n    }\n\n    .dataframe tbody tr th {\n        vertical-align: top;\n    }\n\n    .dataframe thead th {\n        text-align: right;\n    }\n</style>\n<table border=\"1\" class=\"dataframe\">\n  <thead>\n    <tr style=\"text-align: right;\">\n      <th></th>\n      <th>Departure_code</th>\n      <th>isDepartureAirport</th>\n      <th>isDestinationAirport</th>\n      <th>destinationIataCodes</th>\n      <th>Departure_City/Town</th>\n      <th>Departure_Country</th>\n      <th>Departure_Altitude</th>\n      <th>Departure_Latitude</th>\n      <th>Departure_Longitude</th>\n      <th>IATA Code</th>\n      <th>Destination_City/Town</th>\n      <th>Destination_Country</th>\n      <th>Destination_Altitude</th>\n      <th>Destination_Latitude</th>\n      <th>Destination_Longitude</th>\n    </tr>\n  </thead>\n  <tbody>\n    <tr>\n      <th>0</th>\n      <td>ALC</td>\n      <td>True</td>\n      <td>True</td>\n      <td>BHX</td>\n      <td>Alicante</td>\n      <td>Spain</td>\n      <td>44</td>\n      <td>38.282</td>\n      <td>-0.558</td>\n      <td>BHX</td>\n      <td>Birmingham</td>\n      <td>England</td>\n      <td>100.0</td>\n      <td>52.454</td>\n      <td>-1.748</td>\n    </tr>\n    <tr>\n      <th>1</th>\n      <td>ALC</td>\n      <td>True</td>\n      <td>True</td>\n      <td>MAN</td>\n      <td>Alicante</td>\n      <td>Spain</td>\n      <td>44</td>\n      <td>38.282</td>\n      <td>-0.558</td>\n      <td>MAN</td>\n      <td>Manchester</td>\n      <td>England</td>\n      <td>79.0</td>\n      <td>53.354</td>\n      <td>-2.275</td>\n    </tr>\n    <tr>\n      <th>2</th>\n      <td>ALC</td>\n      <td>True</td>\n      <td>True</td>\n      <td>NCL</td>\n      <td>Alicante</td>\n      <td>Spain</td>\n      <td>44</td>\n      <td>38.282</td>\n      <td>-0.558</td>\n      <td>NCL</td>\n      <td>Newcastle</td>\n      <td>England</td>\n      <td>82.0</td>\n      <td>55.038</td>\n      <td>-1.692</td>\n    </tr>\n    <tr>\n      <th>3</th>\n      <td>ALC</td>\n      <td>True</td>\n      <td>True</td>\n      <td>LBA</td>\n      <td>Alicante</td>\n      <td>Spain</td>\n      <td>44</td>\n      <td>38.282</td>\n      <td>-0.558</td>\n      <td>LBA</td>\n      <td>Leeds</td>\n      <td>England</td>\n      <td>208.0</td>\n      <td>53.866</td>\n      <td>-1.661</td>\n    </tr>\n    <tr>\n      <th>4</th>\n      <td>ALC</td>\n      <td>True</td>\n      <td>True</td>\n      <td>GLA</td>\n      <td>Alicante</td>\n      <td>Spain</td>\n      <td>44</td>\n      <td>38.282</td>\n      <td>-0.558</td>\n      <td>GLA</td>\n      <td>Glasgow</td>\n      <td>Uk</td>\n      <td>8.0</td>\n      <td>55.872</td>\n      <td>-4.433</td>\n    </tr>\n  </tbody>\n</table>\n</div>"
     },
     "metadata": {},
     "execution_count": 23
    }
   ],
   "source": [
    "jet2.rename(\n",
    "    columns={col: f'Destination_{col}' for col in columns},\n",
    "    inplace=True\n",
    ")\n",
    "jet2.head()"
   ]
  },
  {
   "cell_type": "code",
   "execution_count": 24,
   "metadata": {},
   "outputs": [
    {
     "output_type": "execute_result",
     "data": {
      "text/plain": "  Departure_code  isDepartureAirport  isDestinationAirport  \\\n0            ALC                True                  True   \n1            ALC                True                  True   \n2            ALC                True                  True   \n3            ALC                True                  True   \n4            ALC                True                  True   \n\n  destinationIataCodes Departure_City/Town Departure_Country  \\\n0                  BHX            Alicante             Spain   \n1                  MAN            Alicante             Spain   \n2                  NCL            Alicante             Spain   \n3                  LBA            Alicante             Spain   \n4                  GLA            Alicante             Spain   \n\n   Departure_Altitude  Departure_Latitude  Departure_Longitude  \\\n0                  44              38.282               -0.558   \n1                  44              38.282               -0.558   \n2                  44              38.282               -0.558   \n3                  44              38.282               -0.558   \n4                  44              38.282               -0.558   \n\n  Destination_City/Town Destination_Country  Destination_Altitude  \\\n0            Birmingham             England                 100.0   \n1            Manchester             England                  79.0   \n2             Newcastle             England                  82.0   \n3                 Leeds             England                 208.0   \n4               Glasgow                  Uk                   8.0   \n\n   Destination_Latitude  Destination_Longitude  \n0                52.454                 -1.748  \n1                53.354                 -2.275  \n2                55.038                 -1.692  \n3                53.866                 -1.661  \n4                55.872                 -4.433  ",
      "text/html": "<div>\n<style scoped>\n    .dataframe tbody tr th:only-of-type {\n        vertical-align: middle;\n    }\n\n    .dataframe tbody tr th {\n        vertical-align: top;\n    }\n\n    .dataframe thead th {\n        text-align: right;\n    }\n</style>\n<table border=\"1\" class=\"dataframe\">\n  <thead>\n    <tr style=\"text-align: right;\">\n      <th></th>\n      <th>Departure_code</th>\n      <th>isDepartureAirport</th>\n      <th>isDestinationAirport</th>\n      <th>destinationIataCodes</th>\n      <th>Departure_City/Town</th>\n      <th>Departure_Country</th>\n      <th>Departure_Altitude</th>\n      <th>Departure_Latitude</th>\n      <th>Departure_Longitude</th>\n      <th>Destination_City/Town</th>\n      <th>Destination_Country</th>\n      <th>Destination_Altitude</th>\n      <th>Destination_Latitude</th>\n      <th>Destination_Longitude</th>\n    </tr>\n  </thead>\n  <tbody>\n    <tr>\n      <th>0</th>\n      <td>ALC</td>\n      <td>True</td>\n      <td>True</td>\n      <td>BHX</td>\n      <td>Alicante</td>\n      <td>Spain</td>\n      <td>44</td>\n      <td>38.282</td>\n      <td>-0.558</td>\n      <td>Birmingham</td>\n      <td>England</td>\n      <td>100.0</td>\n      <td>52.454</td>\n      <td>-1.748</td>\n    </tr>\n    <tr>\n      <th>1</th>\n      <td>ALC</td>\n      <td>True</td>\n      <td>True</td>\n      <td>MAN</td>\n      <td>Alicante</td>\n      <td>Spain</td>\n      <td>44</td>\n      <td>38.282</td>\n      <td>-0.558</td>\n      <td>Manchester</td>\n      <td>England</td>\n      <td>79.0</td>\n      <td>53.354</td>\n      <td>-2.275</td>\n    </tr>\n    <tr>\n      <th>2</th>\n      <td>ALC</td>\n      <td>True</td>\n      <td>True</td>\n      <td>NCL</td>\n      <td>Alicante</td>\n      <td>Spain</td>\n      <td>44</td>\n      <td>38.282</td>\n      <td>-0.558</td>\n      <td>Newcastle</td>\n      <td>England</td>\n      <td>82.0</td>\n      <td>55.038</td>\n      <td>-1.692</td>\n    </tr>\n    <tr>\n      <th>3</th>\n      <td>ALC</td>\n      <td>True</td>\n      <td>True</td>\n      <td>LBA</td>\n      <td>Alicante</td>\n      <td>Spain</td>\n      <td>44</td>\n      <td>38.282</td>\n      <td>-0.558</td>\n      <td>Leeds</td>\n      <td>England</td>\n      <td>208.0</td>\n      <td>53.866</td>\n      <td>-1.661</td>\n    </tr>\n    <tr>\n      <th>4</th>\n      <td>ALC</td>\n      <td>True</td>\n      <td>True</td>\n      <td>GLA</td>\n      <td>Alicante</td>\n      <td>Spain</td>\n      <td>44</td>\n      <td>38.282</td>\n      <td>-0.558</td>\n      <td>Glasgow</td>\n      <td>Uk</td>\n      <td>8.0</td>\n      <td>55.872</td>\n      <td>-4.433</td>\n    </tr>\n  </tbody>\n</table>\n</div>"
     },
     "metadata": {},
     "execution_count": 24
    }
   ],
   "source": [
    "jet2.drop(\n",
    "    columns=['IATA Code'],\n",
    "    inplace=True\n",
    ")\n",
    "jet2.head()"
   ]
  }
 ]
}