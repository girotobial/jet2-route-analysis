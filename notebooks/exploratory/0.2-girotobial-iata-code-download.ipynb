{
 "metadata": {
  "language_info": {
   "codemirror_mode": {
    "name": "ipython",
    "version": 3
   },
   "file_extension": ".py",
   "mimetype": "text/x-python",
   "name": "python",
   "nbconvert_exporter": "python",
   "pygments_lexer": "ipython3",
   "version": "3.8.2-final"
  },
  "orig_nbformat": 2,
  "kernelspec": {
   "name": "python38264bitvenvvenv27a39c7a867b4e2d9c38e92e2c14977f",
   "display_name": "Python 3.8.2 64-bit ('venv': venv)"
  }
 },
 "nbformat": 4,
 "nbformat_minor": 2,
 "cells": [
  {
   "cell_type": "markdown",
   "metadata": {},
   "source": [
    "# Iata Code Download Exploration\n",
    " exploring how to scrape iata codes from the IATA website"
   ]
  },
  {
   "cell_type": "code",
   "execution_count": 1,
   "metadata": {},
   "outputs": [],
   "source": [
    "import requests\n",
    "import pandas as pd\n",
    "import json\n",
    "from bs4 import BeautifulSoup\n",
    "from IPython.display import clear_output\n",
    "from pathlib import Path\n",
    "\n",
    "from time import sleep\n",
    "from random import randint"
   ]
  },
  {
   "cell_type": "markdown",
   "metadata": {},
   "source": [
    "base URL https://www.iata.org/en/publications/directories/code-search/?airport.page=1&airport.search="
   ]
  },
  {
   "cell_type": "markdown",
   "metadata": {},
   "source": [
    "prototyping parsing one page of the table"
   ]
  },
  {
   "cell_type": "code",
   "execution_count": 2,
   "metadata": {},
   "outputs": [],
   "source": [
    "response = requests.get(\n",
    "    url='https://www.iata.org/en/publications/directories/code-search/?airport.page=275&airport.search='\n",
    ")"
   ]
  },
  {
   "cell_type": "code",
   "execution_count": 3,
   "metadata": {},
   "outputs": [],
   "source": [
    "soup = BeautifulSoup(response.text, 'html.parser')"
   ]
  },
  {
   "cell_type": "code",
   "execution_count": 4,
   "metadata": {},
   "outputs": [
    {
     "output_type": "execute_result",
     "data": {
      "text/plain": "           City Name 3-letter city code      Location Name  \\\n0  Carpentaria Downs                CFP  Carpentaria Downs   \n1          Carriacou                CRU          Carriacou   \n2    Carrizo Springs                CZT      Dimmit County   \n3            Carroll                CIN      Arthur N. Neu   \n4        Carson City                CSN             Carson   \n\n  3-letter location code  \n0                    CFP  \n1                    CRU  \n2                    CZT  \n3                    CIN  \n4                    CSN  ",
      "text/html": "<div>\n<style scoped>\n    .dataframe tbody tr th:only-of-type {\n        vertical-align: middle;\n    }\n\n    .dataframe tbody tr th {\n        vertical-align: top;\n    }\n\n    .dataframe thead th {\n        text-align: right;\n    }\n</style>\n<table border=\"1\" class=\"dataframe\">\n  <thead>\n    <tr style=\"text-align: right;\">\n      <th></th>\n      <th>City Name</th>\n      <th>3-letter city code</th>\n      <th>Location Name</th>\n      <th>3-letter location code</th>\n    </tr>\n  </thead>\n  <tbody>\n    <tr>\n      <th>0</th>\n      <td>Carpentaria Downs</td>\n      <td>CFP</td>\n      <td>Carpentaria Downs</td>\n      <td>CFP</td>\n    </tr>\n    <tr>\n      <th>1</th>\n      <td>Carriacou</td>\n      <td>CRU</td>\n      <td>Carriacou</td>\n      <td>CRU</td>\n    </tr>\n    <tr>\n      <th>2</th>\n      <td>Carrizo Springs</td>\n      <td>CZT</td>\n      <td>Dimmit County</td>\n      <td>CZT</td>\n    </tr>\n    <tr>\n      <th>3</th>\n      <td>Carroll</td>\n      <td>CIN</td>\n      <td>Arthur N. Neu</td>\n      <td>CIN</td>\n    </tr>\n    <tr>\n      <th>4</th>\n      <td>Carson City</td>\n      <td>CSN</td>\n      <td>Carson</td>\n      <td>CSN</td>\n    </tr>\n  </tbody>\n</table>\n</div>"
     },
     "metadata": {},
     "execution_count": 4
    }
   ],
   "source": [
    "table = soup.find_all('table', {'class': \"datatable\"})[1]\n",
    "df = pd.read_html(str(table))\n",
    "df = pd.concat(df)\n",
    "df.head()"
   ]
  },
  {
   "cell_type": "markdown",
   "metadata": {},
   "source": [
    "lets turn the datatable parser into its own function"
   ]
  },
  {
   "cell_type": "code",
   "execution_count": 5,
   "metadata": {},
   "outputs": [],
   "source": [
    "def location_table_parser(html_response: str) -> pd.DataFrame:\n",
    "    soup = BeautifulSoup(\n",
    "        html_response,\n",
    "        'html.parser'\n",
    "    )\n",
    "    table = soup.find_all(\n",
    "        'table',\n",
    "        {'class': \"datatable\"}\n",
    "    )[-1]\n",
    "    return pd.concat(\n",
    "        pd.read_html(str(table))\n",
    "    )"
   ]
  },
  {
   "cell_type": "markdown",
   "metadata": {},
   "source": [
    "great that works! Next lets try parsing all the pages using a while loop and the sleep function"
   ]
  },
  {
   "cell_type": "markdown",
   "metadata": {},
   "source": [
    "## Scraping all pages"
   ]
  },
  {
   "cell_type": "markdown",
   "metadata": {},
   "source": [
    "this took waaay to long"
   ]
  },
  {
   "cell_type": "code",
   "execution_count": 6,
   "metadata": {
    "tags": []
   },
   "outputs": [],
   "source": [
    "dataframes = []\n",
    "errored_pages = []\n",
    "page = 1\n",
    "#while True:\n",
    "#    clear_output(wait=True)\n",
    "#    print(f'Page {page}', end='')\n",
    "#    url = (\n",
    "#        f'https://www.iata.org/en/publications/directories/code-search/?airport.page={page}&airport.search='\n",
    "#    )\n",
    "#    response = requests.get(url)\n",
    "#    try:\n",
    "#        df = location_table_parser(response.text)\n",
    "#        \n",
    "#        if len(df) == 0:\n",
    "#            break\n",
    "#   except IndexError:\n",
    "#        errored_pages.append(page)\n",
    "#\n",
    "#\n",
    "#   dataframes.append(df)\n",
    "#   if page%50 == 0:\n",
    "#       data = pd.concat(dataframes)\n",
    "#       data.to_csv('iata_codes.csv', index=False)\n",
    "#\n",
    "#    page += 1\n",
    "#    print('...complete')\n",
    "#    sleep(randint(2, 5))\n",
    "\n",
    "#complete_dataset = pd.concat(dataframes)"
   ]
  },
  {
   "cell_type": "markdown",
   "metadata": {},
   "source": [
    "lets try a different plan"
   ]
  },
  {
   "cell_type": "markdown",
   "metadata": {},
   "source": [
    "## Scraping of codes that exists in the jet2 dataset"
   ]
  },
  {
   "cell_type": "code",
   "execution_count": 7,
   "metadata": {},
   "outputs": [
    {
     "output_type": "execute_result",
     "data": {
      "text/plain": "          country                    label code  isDepartureAirport  \\\n0  United Kingdom                 Aberdeen  ABZ                True   \n1          France  Albert (Picardie Somme)  BYF                True   \n2           Spain             Alicante ALC  ALC                True   \n3           Spain              Almeria LEI  LEI                True   \n4     Netherlands            Amsterdam AMS  AMS                True   \n\n   isDestinationAirport                 destinationIataCodes  \\\n0                 False                                        \n1                 False                                        \n2                  True  BHX|EDI|NCL|MAN|GLA|BFS|STN|EMA|LBA   \n3                  True          EMA|GLA|LBA|MAN|BHX|STN|NCL   \n4                  True                                  LBA   \n\n                                         searchTerms  isEnabledForBooking  \\\n0                    [ABZ, Aberdeen, United Kingdom]                False   \n1           [BYF, Albert, (Picardie, Somme), France]                False   \n2  [ALC, Alicante, ALC, Benidorm, Costa Blanca, S...                 True   \n3                         [LEI, Almeria, LEI, Spain]                 True   \n4  [AMS, Amsterdam, AMS, Holland, Netherlands, Ne...                 True   \n\n  airportUrlKey  \n0      aberdeen  \n1        albert  \n2      alicante  \n3       almeria  \n4     amsterdam  ",
      "text/html": "<div>\n<style scoped>\n    .dataframe tbody tr th:only-of-type {\n        vertical-align: middle;\n    }\n\n    .dataframe tbody tr th {\n        vertical-align: top;\n    }\n\n    .dataframe thead th {\n        text-align: right;\n    }\n</style>\n<table border=\"1\" class=\"dataframe\">\n  <thead>\n    <tr style=\"text-align: right;\">\n      <th></th>\n      <th>country</th>\n      <th>label</th>\n      <th>code</th>\n      <th>isDepartureAirport</th>\n      <th>isDestinationAirport</th>\n      <th>destinationIataCodes</th>\n      <th>searchTerms</th>\n      <th>isEnabledForBooking</th>\n      <th>airportUrlKey</th>\n    </tr>\n  </thead>\n  <tbody>\n    <tr>\n      <th>0</th>\n      <td>United Kingdom</td>\n      <td>Aberdeen</td>\n      <td>ABZ</td>\n      <td>True</td>\n      <td>False</td>\n      <td></td>\n      <td>[ABZ, Aberdeen, United Kingdom]</td>\n      <td>False</td>\n      <td>aberdeen</td>\n    </tr>\n    <tr>\n      <th>1</th>\n      <td>France</td>\n      <td>Albert (Picardie Somme)</td>\n      <td>BYF</td>\n      <td>True</td>\n      <td>False</td>\n      <td></td>\n      <td>[BYF, Albert, (Picardie, Somme), France]</td>\n      <td>False</td>\n      <td>albert</td>\n    </tr>\n    <tr>\n      <th>2</th>\n      <td>Spain</td>\n      <td>Alicante ALC</td>\n      <td>ALC</td>\n      <td>True</td>\n      <td>True</td>\n      <td>BHX|EDI|NCL|MAN|GLA|BFS|STN|EMA|LBA</td>\n      <td>[ALC, Alicante, ALC, Benidorm, Costa Blanca, S...</td>\n      <td>True</td>\n      <td>alicante</td>\n    </tr>\n    <tr>\n      <th>3</th>\n      <td>Spain</td>\n      <td>Almeria LEI</td>\n      <td>LEI</td>\n      <td>True</td>\n      <td>True</td>\n      <td>EMA|GLA|LBA|MAN|BHX|STN|NCL</td>\n      <td>[LEI, Almeria, LEI, Spain]</td>\n      <td>True</td>\n      <td>almeria</td>\n    </tr>\n    <tr>\n      <th>4</th>\n      <td>Netherlands</td>\n      <td>Amsterdam AMS</td>\n      <td>AMS</td>\n      <td>True</td>\n      <td>True</td>\n      <td>LBA</td>\n      <td>[AMS, Amsterdam, AMS, Holland, Netherlands, Ne...</td>\n      <td>True</td>\n      <td>amsterdam</td>\n    </tr>\n  </tbody>\n</table>\n</div>"
     },
     "metadata": {},
     "execution_count": 7
    }
   ],
   "source": [
    "jet2_path = Path().cwd().parent.parent / 'data' / 'external' / 'jet2_data.json'\n",
    "with open(jet2_path) as f:\n",
    "    jet2 = json.load(f)\n",
    "jet2 = pd.DataFrame(jet2['Data'])\n",
    "jet2.head()"
   ]
  },
  {
   "cell_type": "code",
   "execution_count": 8,
   "metadata": {},
   "outputs": [],
   "source": [
    "codes = jet2['code'].unique()"
   ]
  },
  {
   "cell_type": "code",
   "execution_count": 13,
   "metadata": {
    "tags": []
   },
   "outputs": [
    {
     "output_type": "stream",
     "name": "stdout",
     "text": "106 of 106\n[]\n"
    }
   ],
   "source": [
    "dataframes = []\n",
    "errors = []\n",
    "for i, code in enumerate(codes):\n",
    "    clear_output()\n",
    "    print(f'{i +1 : d} of {len(codes)}')\n",
    "    url = (\n",
    "        f'https://www.iata.org/en/publications/directories/code-search/?airport.search={code}'\n",
    "    )\n",
    "    response = requests.get(url)\n",
    "    for tries in range(2):\n",
    "        if 'error' in BeautifulSoup(response.text).head:\n",
    "            response = requests.get(url)\n",
    "            sleep(2)\n",
    "        else:\n",
    "            break\n",
    "    try:\n",
    "        dataframes.append(\n",
    "            location_table_parser(response.text)\n",
    "        )\n",
    "    except IndexError:\n",
    "        errors.append(code)\n",
    "    print(errors)\n",
    "    sleep(randint(2, 5))"
   ]
  },
  {
   "cell_type": "code",
   "execution_count": 14,
   "metadata": {},
   "outputs": [],
   "source": [
    "code_data = pd.concat(dataframes)"
   ]
  },
  {
   "cell_type": "code",
   "execution_count": 15,
   "metadata": {},
   "outputs": [
    {
     "output_type": "execute_result",
     "data": {
      "text/plain": "[]"
     },
     "metadata": {},
     "execution_count": 15
    }
   ],
   "source": [
    "errors"
   ]
  }
 ]
}