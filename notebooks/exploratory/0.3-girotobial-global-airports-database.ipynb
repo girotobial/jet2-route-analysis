{
 "metadata": {
  "language_info": {
   "codemirror_mode": {
    "name": "ipython",
    "version": 3
   },
   "file_extension": ".py",
   "mimetype": "text/x-python",
   "name": "python",
   "nbconvert_exporter": "python",
   "pygments_lexer": "ipython3",
   "version": "3.8.2-final"
  },
  "orig_nbformat": 2,
  "kernelspec": {
   "name": "python38264bitvenvvenv27a39c7a867b4e2d9c38e92e2c14977f",
   "display_name": "Python 3.8.2 64-bit ('venv': venv)"
  }
 },
 "nbformat": 4,
 "nbformat_minor": 2,
 "cells": [
  {
   "cell_type": "code",
   "execution_count": 1,
   "metadata": {},
   "outputs": [],
   "source": [
    "import requests\n",
    "import zipfile\n",
    "import re\n",
    "import os\n",
    "from bs4 import BeautifulSoup"
   ]
  },
  {
   "cell_type": "code",
   "execution_count": 2,
   "metadata": {},
   "outputs": [],
   "source": [
    "def download_url(url, save_path, chunk_size=128):\n",
    "    r = requests.get(url, stream=True)\n",
    "    with open(save_path, 'wb') as fd:\n",
    "        for chunk in r.iter_content(chunk_size=chunk_size):\n",
    "            fd.write(chunk)"
   ]
  },
  {
   "cell_type": "code",
   "execution_count": 3,
   "metadata": {},
   "outputs": [],
   "source": [
    "url ='https://www.partow.net/downloads/GlobalAirportDatabase.zip'\n",
    "filename = url.split('/')[-1]"
   ]
  },
  {
   "cell_type": "code",
   "execution_count": 4,
   "metadata": {},
   "outputs": [],
   "source": [
    "download_url(url, filename)"
   ]
  },
  {
   "cell_type": "code",
   "execution_count": 5,
   "metadata": {},
   "outputs": [],
   "source": [
    "zip = zipfile.ZipFile(filename)"
   ]
  },
  {
   "cell_type": "code",
   "execution_count": 6,
   "metadata": {},
   "outputs": [
    {
     "output_type": "execute_result",
     "data": {
      "text/plain": "'/home/pop-os/Documents/jet2-route-analysis/notebooks/exploratory/GlobalAirportDatabase.txt'"
     },
     "metadata": {},
     "execution_count": 6
    }
   ],
   "source": [
    "zip.extract('GlobalAirportDatabase.txt')"
   ]
  },
  {
   "cell_type": "code",
   "execution_count": 7,
   "metadata": {},
   "outputs": [],
   "source": [
    "if os.path.exists(filename):\n",
    "    os.remove(filename)"
   ]
  },
  {
   "cell_type": "code",
   "execution_count": 8,
   "metadata": {},
   "outputs": [],
   "source": [
    "from io import BytesIO\n",
    "r = requests.get(url, stream=True)\n",
    "zip_ = zipfile.ZipFile(BytesIO(r.content))"
   ]
  },
  {
   "cell_type": "code",
   "execution_count": 9,
   "metadata": {},
   "outputs": [
    {
     "output_type": "execute_result",
     "data": {
      "text/plain": "'/home/pop-os/Documents/jet2-route-analysis/notebooks/exploratory/GlobalAirportDatabase.txt'"
     },
     "metadata": {},
     "execution_count": 9
    }
   ],
   "source": [
    "zip_.extract('GlobalAirportDatabase.txt')"
   ]
  },
  {
   "cell_type": "code",
   "execution_count": 10,
   "metadata": {},
   "outputs": [],
   "source": [
    "col_url='https://www.partow.net/miscellaneous/airportdatabase/index.html#Downloads'\n",
    "r = requests.get(col_url)"
   ]
  },
  {
   "cell_type": "code",
   "execution_count": 11,
   "metadata": {},
   "outputs": [],
   "source": [
    "soup = BeautifulSoup(r.text)"
   ]
  },
  {
   "cell_type": "code",
   "execution_count": 12,
   "metadata": {},
   "outputs": [
    {
     "output_type": "execute_result",
     "data": {
      "text/plain": "[<table class=\"tg\">\n <tr><th class=\"tg-9hbo\">Field</th><th class=\"tg-9hbo\">Name</th><th class=\"tg-9hbo\">Type</th></tr>\n <tr><td class=\"tg-6k2t\">01</td><td class=\"tg-6k2t\"><b>ICAO Code                </b></td><td class=\"tg-6k2t\">String (3-4 chars, A - Z)</td></tr>\n <tr><td class=\"tg-6k2t\">02</td><td class=\"tg-6k2t\"><b>IATA Code                </b></td><td class=\"tg-6k2t\">String (3 chars, A - Z)  </td></tr>\n <tr><td class=\"tg-6k2t\">03</td><td class=\"tg-6k2t\"><b>Airport Name             </b></td><td class=\"tg-6k2t\">String                   </td></tr>\n <tr><td class=\"tg-6k2t\">04</td><td class=\"tg-6k2t\"><b>City/Town                </b></td><td class=\"tg-6k2t\">String                   </td></tr>\n <tr><td class=\"tg-6k2t\">05</td><td class=\"tg-6k2t\"><b>Country                  </b></td><td class=\"tg-6k2t\">String                   </td></tr>\n <tr><td class=\"tg-6k2t\">06</td><td class=\"tg-6k2t\"><b>Latitude Degrees         </b></td><td class=\"tg-6k2t\">Integer [0,360]          </td></tr>\n <tr><td class=\"tg-6k2t\">07</td><td class=\"tg-6k2t\"><b>Latitude Minutes         </b></td><td class=\"tg-6k2t\">Integer [0,60]           </td></tr>\n <tr><td class=\"tg-6k2t\">08</td><td class=\"tg-6k2t\"><b>Latitude Seconds         </b></td><td class=\"tg-6k2t\">Integer [0,60]           </td></tr>\n <tr><td class=\"tg-6k2t\">09</td><td class=\"tg-6k2t\"><b>Latitude Direction       </b></td><td class=\"tg-6k2t\">Char (N or S)            </td></tr>\n <tr><td class=\"tg-6k2t\">10</td><td class=\"tg-6k2t\"><b>Longitude Degrees        </b></td><td class=\"tg-6k2t\">Integer [0,360]          </td></tr>\n <tr><td class=\"tg-6k2t\">11</td><td class=\"tg-6k2t\"><b>Longitude Minutes        </b></td><td class=\"tg-6k2t\">Integer [0,60]           </td></tr>\n <tr><td class=\"tg-6k2t\">12</td><td class=\"tg-6k2t\"><b>Longitude Seconds        </b></td><td class=\"tg-6k2t\">Integer [0,60]           </td></tr>\n <tr><td class=\"tg-6k2t\">13</td><td class=\"tg-6k2t\"><b>Longitude Direction      </b></td><td class=\"tg-6k2t\">Char (E or W)            </td></tr>\n <tr><td class=\"tg-6k2t\">14</td><td class=\"tg-6k2t\"><b>Altitude                 </b></td><td class=\"tg-6k2t\">Integer [-99999,+99999]<br/>(Altitude in meters from mean sea level)</td></tr>\n <tr><td class=\"tg-6k2t\">16</td><td class=\"tg-6k2t\"><b>Latitude Decimal Degrees </b></td><td class=\"tg-6k2t\">Floating point [-90,90]  </td></tr>\n <tr><td class=\"tg-6k2t\">17</td><td class=\"tg-6k2t\"><b>Longitude Decimal Degrees</b></td><td class=\"tg-6k2t\">Floating point [-180,180]</td></tr>\n </table>,\n <table class=\"tg\">\n <tr>\n <td class=\"tg-e3zv\">YMML:MEL:MELBOURNE INTERNATIONAL:MELBOURNE:AUSTRALIA:037:040:024:S:144:050:036:E:0434:-37.673:144.843</td>\n </tr>\n </table>]"
     },
     "metadata": {},
     "execution_count": 12
    }
   ],
   "source": [
    "table = soup.find_all(\n",
    "    'table',\n",
    "    {'class': \"tg\"}\n",
    ")\n",
    "table"
   ]
  },
  {
   "cell_type": "code",
   "execution_count": 13,
   "metadata": {},
   "outputs": [
    {
     "output_type": "execute_result",
     "data": {
      "text/plain": "['ICAO Code',\n 'IATA Code',\n 'Airport Name',\n 'City/Town',\n 'Country',\n 'Latitude Degrees',\n 'Latitude Minutes',\n 'Latitude Seconds',\n 'Latitude Direction',\n 'Longitude Degrees',\n 'Longitude Minutes',\n 'Longitude Seconds',\n 'Longitude Direction',\n 'Altitude',\n 'Latitude Decimal Degrees',\n 'Longitude Decimal Degrees']"
     },
     "metadata": {},
     "execution_count": 13
    }
   ],
   "source": [
    "import pandas as pd\n",
    "pd.read_html(str(table))[0]['Name'].to_list()"
   ]
  },
  {
   "cell_type": "code",
   "execution_count": 17,
   "metadata": {},
   "outputs": [
    {
     "output_type": "execute_result",
     "data": {
      "text/plain": "    Field                       Name  \\\n0       1                  ICAO Code   \n1       2                  IATA Code   \n2       3               Airport Name   \n3       4                  City/Town   \n4       5                    Country   \n5       6           Latitude Degrees   \n6       7           Latitude Minutes   \n7       8           Latitude Seconds   \n8       9         Latitude Direction   \n9      10          Longitude Degrees   \n10     11          Longitude Minutes   \n11     12          Longitude Seconds   \n12     13        Longitude Direction   \n13     14                   Altitude   \n14     16   Latitude Decimal Degrees   \n15     17  Longitude Decimal Degrees   \n\n                                                 Type  \n0                           String (3-4 chars, A - Z)  \n1                             String (3 chars, A - Z)  \n2                                              String  \n3                                              String  \n4                                              String  \n5                                     Integer [0,360]  \n6                                      Integer [0,60]  \n7                                      Integer [0,60]  \n8                                       Char (N or S)  \n9                                     Integer [0,360]  \n10                                     Integer [0,60]  \n11                                     Integer [0,60]  \n12                                      Char (E or W)  \n13  Integer [-99999,+99999](Altitude in meters fro...  \n14                            Floating point [-90,90]  \n15                          Floating point [-180,180]  ",
      "text/html": "<div>\n<style scoped>\n    .dataframe tbody tr th:only-of-type {\n        vertical-align: middle;\n    }\n\n    .dataframe tbody tr th {\n        vertical-align: top;\n    }\n\n    .dataframe thead th {\n        text-align: right;\n    }\n</style>\n<table border=\"1\" class=\"dataframe\">\n  <thead>\n    <tr style=\"text-align: right;\">\n      <th></th>\n      <th>Field</th>\n      <th>Name</th>\n      <th>Type</th>\n    </tr>\n  </thead>\n  <tbody>\n    <tr>\n      <th>0</th>\n      <td>1</td>\n      <td>ICAO Code</td>\n      <td>String (3-4 chars, A - Z)</td>\n    </tr>\n    <tr>\n      <th>1</th>\n      <td>2</td>\n      <td>IATA Code</td>\n      <td>String (3 chars, A - Z)</td>\n    </tr>\n    <tr>\n      <th>2</th>\n      <td>3</td>\n      <td>Airport Name</td>\n      <td>String</td>\n    </tr>\n    <tr>\n      <th>3</th>\n      <td>4</td>\n      <td>City/Town</td>\n      <td>String</td>\n    </tr>\n    <tr>\n      <th>4</th>\n      <td>5</td>\n      <td>Country</td>\n      <td>String</td>\n    </tr>\n    <tr>\n      <th>5</th>\n      <td>6</td>\n      <td>Latitude Degrees</td>\n      <td>Integer [0,360]</td>\n    </tr>\n    <tr>\n      <th>6</th>\n      <td>7</td>\n      <td>Latitude Minutes</td>\n      <td>Integer [0,60]</td>\n    </tr>\n    <tr>\n      <th>7</th>\n      <td>8</td>\n      <td>Latitude Seconds</td>\n      <td>Integer [0,60]</td>\n    </tr>\n    <tr>\n      <th>8</th>\n      <td>9</td>\n      <td>Latitude Direction</td>\n      <td>Char (N or S)</td>\n    </tr>\n    <tr>\n      <th>9</th>\n      <td>10</td>\n      <td>Longitude Degrees</td>\n      <td>Integer [0,360]</td>\n    </tr>\n    <tr>\n      <th>10</th>\n      <td>11</td>\n      <td>Longitude Minutes</td>\n      <td>Integer [0,60]</td>\n    </tr>\n    <tr>\n      <th>11</th>\n      <td>12</td>\n      <td>Longitude Seconds</td>\n      <td>Integer [0,60]</td>\n    </tr>\n    <tr>\n      <th>12</th>\n      <td>13</td>\n      <td>Longitude Direction</td>\n      <td>Char (E or W)</td>\n    </tr>\n    <tr>\n      <th>13</th>\n      <td>14</td>\n      <td>Altitude</td>\n      <td>Integer [-99999,+99999](Altitude in meters fro...</td>\n    </tr>\n    <tr>\n      <th>14</th>\n      <td>16</td>\n      <td>Latitude Decimal Degrees</td>\n      <td>Floating point [-90,90]</td>\n    </tr>\n    <tr>\n      <th>15</th>\n      <td>17</td>\n      <td>Longitude Decimal Degrees</td>\n      <td>Floating point [-180,180]</td>\n    </tr>\n  </tbody>\n</table>\n</div>"
     },
     "metadata": {},
     "execution_count": 17
    }
   ],
   "source": [
    "pd.read_html(str(table))[0]"
   ]
  },
  {
   "cell_type": "code",
   "execution_count": null,
   "metadata": {},
   "outputs": [],
   "source": []
  }
 ]
}